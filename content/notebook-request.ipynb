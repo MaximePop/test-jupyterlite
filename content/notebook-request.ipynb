{
  "metadata": {
    "toc-autonumbering": false,
    "toc-showmarkdowntxt": true,
    "toc-showtags": false,
    "kernelspec": {
      "name": "python",
      "display_name": "Python (Pyodide)",
      "language": "python"
    },
    "language_info": {
      "codemirror_mode": {
        "name": "python",
        "version": 3
      },
      "file_extension": ".py",
      "mimetype": "text/x-python",
      "name": "python",
      "nbconvert_exporter": "python",
      "pygments_lexer": "ipython3",
      "version": "3.8"
    }
  },
  "nbformat_minor": 5,
  "nbformat": 4,
  "cells": [
    {
      "cell_type": "markdown",
      "source": "# <span style=\"font-size:18pt;\"><mark style=\"background-color: white;\">Un panorama des pratiques informatiques dans les publications de recherche dans la base de données HAL.</mark></span>\n\nUn exemple des bonnes pratiques à mettre en place pour constituer un Notebook.\n\nPar POPINEAU Maxime (rapport réalisé en stage de Master 2 coencadré par Marie-Laure Massot, Emilien Schultz et Agnès Tricoche, dans le cadre de l'initiative Digit_Hum, d'avril-juillet 2023).",
      "metadata": {},
      "id": "66103bf4-a9ef-4f5a-840c-5613ad441acb"
    },
    {
      "cell_type": "markdown",
      "source": "\n## <span style=\"font-size: 14pt\"> Information sur les données.</span>\n\nLes données utilisées dans ce notebook proviennent du site HAL (https://hal.science/). L’archive ouverte pluridisciplinaire HAL est destinée au dépôt et à la diffusion en libre accès des travaux scientifiques des chercheurs, émanant des établissements d'enseignement et de recherche français ou étrangers, des laboratoires publics ou privés. Son interface en ligne permet de partager librement les savoirs. Il est également possible d’interagir avec la base de données de HAL via une API*, et notamment de l’interroger pour y effectuer des recherches selon divers critères puis de récupérer les résultats dans différents formats de données structurées.\n\nUne API (Interface de programmation d'application) fournit des \"endpoints\" permettant d'interagir avec leur site web afin de récupérer des informations grâce à des recherches. Les APIs facilitent la communication entre plusieurs applications informatiques : cela sert à ce que les applications puissent échanger des informations entre-elles. Cela permet aux développeurs de créer des applications utilisant plusieurs APIS en même temps.\n\nL'utilisation d'une API nécessite également une chaîne de requête (\"query string\" en anglais), qui est une partie à ajouter à droite ,pour l'API de HAL, de l'URL de base pour inclure des paramètres et des valeurs.\n\nUn exemple de chaîne de requête est : https://api.archives-ouvertes.fr/search/?q=%22jupyter%20notebook%22. Cette URL fonctionne directement dans notre navigateur web et renvoie les résultats de notre recherche.\n\nhttps://api.archives-ouvertes.fr/search est la première partie qui permet d'accéder au serveur des archives ouvertes. La deuxième partie, ?q=%22jupyter%20notebook%22, permet de spécifier notre requête, qui est \"jupyter notebook\".\n\nCertains caractères, tels que l'espace ou les guillemets doubles, doivent être encodés correctement pour être transmis via le protocole HTTP. Le %22 correspond à l'encodage ASCII du caractère double guillemet et le %20 correspond à l'encodage de l'espace. Cela permet à l'ordinateur d'effectuer la requête sur \"jupyter notebook\" et non  \"jupyter\" et \"notebook\" séparément.\n\nL'utilisation de cette API permet d'interroger les données en utilisant des paramètres, par exemple pour connaître le nombre d'articles publiés dans HAL en 2014.\n\nDans ce notebook, nous allons voir comment utiliser l'API HAL ainsi que les bibliothèques pandas et matplotlib. ",
      "metadata": {},
      "id": "0c83109e-44de-4c55-a2ab-0d0fd8c34b30"
    },
    {
      "cell_type": "markdown",
      "source": "Pour les personnes qui ne connaissent pas Python.\n\nUn ipywidget est disponible à la fin du Notebook pour permettre à des non-programmeurs d'interagir avec l'API de HAL !",
      "metadata": {},
      "id": "5c92ee9e-46ea-4475-88f1-ad518e26c9a0"
    },
    {
      "cell_type": "markdown",
      "source": "## <span style=\"font-size: 14pt\"> Objectifs de ce Jupyter Notebook.</span>\n\nCe Jupyter Notebook vise à  :\n\n1. Faire un panorama des pratiques numériques des chercheurs.\n2. Fournir un exemple de Jupyter Notebook reproductible et de qualité. \n3. Enseigner des compétences aux utilisateurs débutants ou expérimentés avec Python.",
      "metadata": {},
      "id": "b59cb0e1-6e4d-4cbb-8fed-826fa958b7a9"
    },
    {
      "cell_type": "markdown",
      "source": "## <span style=\"font-size: 14pt\"> Compétences requises.</span>\n\nCe Jupyter Notebook est à destination d'un public débutant. Il est préférable de connaître le langage informatique Python pour suivre le Notebook, mais cela n'est pas obligatoire.\n\nLe document permet d'acquérir des compétences variées comme :\n\n1. Savoir utiliser les différentes librairies comme pandas et matplotlib.\n2. Utiliser les fonctions en Python pour éviter la duplication du code.\n3. Savoir faire une requête via une API.",
      "metadata": {
        "jp-MarkdownHeadingCollapsed": true,
        "tags": []
      },
      "id": "3f28feab-54d8-4417-8ebd-381b0488f7ca"
    },
    {
      "cell_type": "markdown",
      "source": "## Section 0 : Importation des librairies.\n\nDans cette section, nous allons importer les librairies nécessaires à notre analyse.\n\nLe rôle des libraries\n\nLa librairie requests et json permetttent de faire les requêtes via l'API de HAL.\n\nPandas est utilisé pour faire de l'analyse de données. La librairie fournit des fonctions pour créer, manipuler et analyser des DataFrames (les tableaux).\n\nMatplotlib permet de faire des graphiques et de visualiser les données.",
      "metadata": {
        "tags": []
      },
      "id": "1b6b7886-1071-4c7f-8b0d-f469bab9030e"
    },
    {
      "cell_type": "code",
      "source": "from pyodide.http import pyfetch, FetchResponse\nfrom typing import Optional, Any\n\nasync def request(url: str, method: str = \"GET\", body: Optional[str] = None,\n                  headers: Optional[dict[str, str]] = None, **fetch_kwargs: Any) -> FetchResponse:\n    \"\"\"\n    Async request function. Pass in Method and make sure to await!\n    Parameters:\n        url: str = URL to make request to\n        method: str = {\"GET\", \"POST\", \"PUT\", \"DELETE\"} from `JavaScript` global fetch())\n        body: str = body as json string. Example, body=json.dumps(my_dict)\n        headers: dict[str, str] = header as dict, will be converted to string...\n            Example, headers=json.dumps({\"Content-Type\": \"application/json\"})\n        fetch_kwargs: Any = any other keyword arguments to pass to `pyfetch` (will be passed to `fetch`)\n    Return:\n        response: pyodide.http.FetchResponse = use with .status or await.json(), etc.\n    \"\"\"\n\n    # kwargs = {\"method\": method, \"mode\": \"cors\"}  # CORS: https://en.wikipedia.org/wiki/Cross-origin_resource_sharing\n    kwargs = {\"method\": method, \"mode\": \"cors\", \"credentials\": \"same-origin\"}  # CORS: https://en.wikipedia.org/wiki/Cross-origin_resource_sharing\n    if body and method not in [\"GET\", \"HEAD\"]:\n        kwargs[\"body\"] = body\n    if headers:\n        kwargs[\"headers\"] = headers\n    kwargs.update(fetch_kwargs)\n    # print(f'url: {url}, args: {kwargs}')\n    response = await pyfetch(url, **kwargs)\n    # print(f'status: {response.status}')\n    return response",
      "metadata": {
        "trusted": true
      },
      "execution_count": 1,
      "outputs": [],
      "id": "692e4eac-ccb3-4ec1-b352-df55f7d8d80b"
    },
    {
      "cell_type": "code",
      "source": "import pandas as pd\nimport matplotlib.pyplot as plt",
      "metadata": {
        "trusted": true
      },
      "execution_count": 2,
      "outputs": [],
      "id": "f071c7ab-ec15-48b5-978d-67c17f2dcd03"
    },
    {
      "cell_type": "markdown",
      "source": "## Section 1 : Analyse du nombre de publications citant Python et les Jupyter Notebooks.",
      "metadata": {},
      "id": "6bd40303-6c83-42e5-854d-8f0be99aa680"
    },
    {
      "cell_type": "markdown",
      "source": "Nous pouvons faire une analyse statistique du nombre de publications dans la base de données HAL mentionnant Python et les Jupyter Notebooks.",
      "metadata": {},
      "id": "237d88ad-4269-4f76-b188-34fb528ca9aa"
    },
    {
      "cell_type": "markdown",
      "source": "## <span style=\"font-size: 12pt\">1.0 : Utilisation d'une fonction qui retourne le nombre d'articles par année en fonction d'une recherche.</span>\n\nLes fonctions permettent de rendre le code plus lisible et d'éviter de le dupliquer. Elles font parties des bonnes pratiques à adopter dans un notebook.",
      "metadata": {},
      "id": "6da9edf4-ba44-4631-b793-05c0cd73fca1"
    },
    {
      "cell_type": "markdown",
      "source": "Pour faire une requête via l'API, il est nécessaire de lire la documentation du site HAL disponible à cette adresse : https://api.archives-ouvertes.fr/docs/search\n",
      "metadata": {},
      "id": "9885ad96-3cce-4a2d-abd1-0d48f840f69d"
    },
    {
      "cell_type": "code",
      "source": "async def get_publication_counts(query):\n    # Effectue une requête pour obtenir le nombre total de publications\n    # headers = {\"Content-type\": \"application/json\"}\n    headers = {}\n    # req = requests.get(f\"https://api.archives-ouvertes.fr/search/?q=text_fulltext:({query})&rows=0&facet=true&facet.field=publicationDateY_i\")\n    response = await request(f\"https://api.archives-ouvertes.fr/search/?q=text_fulltext:({query})&rows=0&facet=true&facet.field=publicationDateY_i\", method=\"GET\", headers=headers)\n    req_json = await response.json()\n    nb = req_json[\"response\"][\"numFound\"]\n    print(f\"Le nombre total de résultats est de : {nb}\\n\")\n\n    # Effectue une requête pour obtenir le nombre de publications par année\n    year_counts = []\n    for year in range(1995, 2023):\n        response = await request(f\"https://api.archives-ouvertes.fr/search/?q=text_fulltext:({query}) AND publicationDateY_i:{year}&rows=0\", method=\"GET\", headers=headers)\n        req_json = await response.json()\n        year_count = req_json[\"response\"][\"numFound\"]\n        year_counts.append((year, year_count))\n\n    # Transforme la liste de tuples en un DataFrame pandas et le renvoie\n    df = pd.DataFrame(year_counts, columns=[\"Année\", \"Nombre de publications\"])\n    return df",
      "metadata": {
        "trusted": true
      },
      "execution_count": 3,
      "outputs": [],
      "id": "eddbb371-ac45-4591-9966-7f691ded5327"
    },
    {
      "cell_type": "markdown",
      "source": "Nous allons ensuite appelé cette fonction et imprimer le Dataframe créé grâce à la librairie Pandas.",
      "metadata": {},
      "id": "8197672c-eb6f-4f57-8a09-6db0ff482f33"
    },
    {
      "cell_type": "code",
      "source": "df = await get_publication_counts(\"python\")\nprint(df)",
      "metadata": {
        "trusted": true
      },
      "execution_count": 4,
      "outputs": [
        {
          "name": "stdout",
          "text": "Le nombre total de résultats est de : 30144\n\n    Année  Nombre de publications\n0    1995                       2\n1    1996                       1\n2    1997                       3\n3    1998                       4\n4    1999                       7\n5    2000                       8\n6    2001                      10\n7    2002                      14\n8    2003                      32\n9    2004                      32\n10   2005                      68\n11   2006                     114\n12   2007                     108\n13   2008                     161\n14   2009                     224\n15   2010                     328\n16   2011                     445\n17   2012                     566\n18   2013                     661\n19   2014                     877\n20   2015                    1047\n21   2016                    1387\n22   2017                    1934\n23   2018                    2612\n24   2019                    3605\n25   2020                    4157\n26   2021                    5175\n27   2022                    5245\n",
          "output_type": "stream"
        }
      ],
      "id": "4ed5b820-2c56-4a3c-bf4b-49ab497d69da"
    },
    {
      "cell_type": "markdown",
      "source": "Le dataframe montre une augmentation importante des articles concernant Python dans la base de donnée HAL. Le nombre d'articles sur Python passe de 10 en 2001 à 444 en 2011 puis 5143 en 2021 soit une multiplication par 500 en l'espace d'une vingtaine d'années. Il est important de noter que l'année 2022 est la première année de baisse du nombre d'articles concernant Python par rapport à l'année précédente depuis 1996.",
      "metadata": {},
      "id": "9e18c57d-79c4-4aac-95b6-17e36ce5051c"
    },
    {
      "cell_type": "markdown",
      "source": "## <span style=\"font-size: 12pt\">1.1 : Faire un graphique avec la librairie Matplotlib pour voir le nombre de publications sur Python en fonction des années.</span>",
      "metadata": {},
      "id": "2bf778ba-4b90-4b42-b204-422eee59eb2b"
    },
    {
      "cell_type": "markdown",
      "source": "Nous allons passer maintenant à la représentation graphique avec la librairie Matplotlib.\n",
      "metadata": {},
      "id": "e6387388-95ac-4e7a-ae85-e4cbae57e35d"
    },
    {
      "cell_type": "code",
      "source": "# Effectue une requête pour obtenir le nombre d'articles avec le mot-clé \"Python\"\nheaders = {\"Content-type\": \"application/json\"}\nquery = \"python\"\nresponse = await request(f\"https://api.archives-ouvertes.fr/search/?q=text_fulltext:({query})&rows=0&facet=true&facet.field=publicationDateY_i\", method=\"GET\", headers=headers)\nreq_json = await response.json()    \nnb = req_json[\"response\"][\"numFound\"]\nprint(f\"Le nombre d'articles contenant le mot clé '{query}' est de : {nb}\\n\")\n\n# Effectue une requête pour obtenir le nombre d'articles avec le mot-clé \"Python\" par année\nyear_counts = req_json[\"facet_counts\"][\"facet_fields\"][\"publicationDateY_i\"]\nyear_counts = [year_counts[i:i+2] for i in range(0, len(year_counts), 2) if int(year_counts[i]) >= 1995]\nyears = [int(year) for year, count in year_counts]\ncounts = [count for year, count in year_counts]\n\n# Création du graphique\nplt.bar(years, counts)\nplt.title(\"Nombre de résultats concernant Python dans la base de HAL par année (après 1995)\")\nplt.xlabel(\"Year\")\nplt.ylabel(\"Number of publications\")\nplt.show()",
      "metadata": {
        "trusted": true
      },
      "execution_count": 5,
      "outputs": [
        {
          "name": "stdout",
          "text": "Le nombre d'articles contenant le mot clé 'python' est de : 30144\n\n",
          "output_type": "stream"
        },
        {
          "output_type": "display_data",
          "data": {
            "text/plain": "<Figure size 640x480 with 1 Axes>",
            "image/png": "[encoded data removed]"
          },
          "metadata": {}
        }
      ],
      "id": "bc27ef87-b97a-4c5b-b067-7ea1f39a82c6"
    },
    {
      "cell_type": "markdown",
      "source": "Matplotlib nous permet de visualiser l'augmentation du nombre des articles sur Python ces 25 dernières années dans HAL. Nous constatons que l'année 2023 marquera peut être une baisse du nombre d'articles publiés sur Python car cinq mois se sont déjà écoulés et il y a à peine 1000 articles dans la base de données.\n",
      "metadata": {},
      "id": "6210bcf5-f5dc-40f5-83ef-9f4434fcc781"
    },
    {
      "cell_type": "markdown",
      "source": "### <span style=\"font-size: 12pt\"> 1.2 : Obtenir les résultats pour les Jupyter Notebooks.</span>",
      "metadata": {},
      "id": "e49dc79b-6f80-4be6-9022-72d3d7bb5995"
    },
    {
      "cell_type": "markdown",
      "source": "Nous appelons la même fonction que dans le 1.0",
      "metadata": {},
      "id": "d220aec9-0e1a-4c8c-82aa-93c0fd9cd505"
    },
    {
      "cell_type": "code",
      "source": "df = get_publication_counts(\"jupyter AND (notebook OR notebooks)\")\nprint(df)",
      "metadata": {
        "trusted": true
      },
      "execution_count": 6,
      "outputs": [
        {
          "name": "stdout",
          "text": "<coroutine object get_publication_counts at 0x4ac8278>\n",
          "output_type": "stream"
        }
      ],
      "id": "ac172faa-5f98-45f3-a6f5-748ee89a2b96"
    },
    {
      "cell_type": "markdown",
      "source": "Le Dataframe montre une augmentation importante des articles mentionnant les Jupyter Notebooks (avec et sans \"s\") dans la base de donnée HAL. Ils passent en effet de 12 en 2016 à 70 (multiplé par 5) en 2018 puis à 223 en 2022. Ainsi, le nombre de publications déposées dans HAL citant les Jupyter Notebooks a été multiplé à peu près par 19 entre 2016 et 2022.",
      "metadata": {},
      "id": "0a32e892-2b5a-4123-a0f6-d32f4479a650"
    },
    {
      "cell_type": "markdown",
      "source": "Il est néanmoinq important de comparer cette hausse d'intérêt pour Python et pour les Jupyter Notebooks à la hausse du nombre d'articles dans HAL. En effet, cette hausse du nombre d'articles pourrait ne pas être la conséquence d'une hausse d'intérêt mais d'une simple hausse dans le nombre d'articles déposés dans l'archive ouverte.",
      "metadata": {},
      "id": "7d5b20d5-d460-488b-b53d-1aed7e8606d7"
    },
    {
      "cell_type": "markdown",
      "source": "## <span style=\"font-size: 12pt\"> 1.3 : Calculer le pourcentage d'articles mentionnant Python et les Jupyter Notebooks par rapport au nombre total d'articles publiés dans HAL au cours du temps.</span>",
      "metadata": {},
      "id": "283dabcc-f7ac-4088-8aed-fbda4124be20"
    },
    {
      "cell_type": "markdown",
      "source": "Nous utilisons l'API de HAL et la librairie pandas pour créer un tableau.",
      "metadata": {},
      "id": "0f6e7a0d-29ec-4a84-910e-69f72572e8f2"
    },
    {
      "cell_type": "code",
      "source": "# Récupère le nombre total d'articles pour chaque année\ntotal_counts = []\nheaders = {}\nfor year in range(1995, 2023):\n    req = await request(f\"https://api.archives-ouvertes.fr/search/?q=*&fq=producedDateY_i:{year}&rows=0\", method='GET', headers=headers)\n    req_json = await req.json()\n    year_count = req_json[\"response\"][\"numFound\"]\n    total_counts.append((year, year_count))\ntotal_df = pd.DataFrame(total_counts, columns=[\"year\", \"total_articles\"])\n\n# Récupère le nombre d'articles concernant Python pour chaque année\npython_counts = []\nfor year in range(1995, 2023):\n    req = await request(f\"https://api.archives-ouvertes.fr/search/?q=text_fulltext:(Python)&fq=producedDateY_i:{year}&rows=0\", method='GET', headers=headers)\n    req_json = await req.json()\n    year_count = req_json.get(\"response\", {}).get(\"numFound\", 0)\n    python_counts.append((year, year_count))\npython_df = pd.DataFrame(python_counts, columns=[\"year\", \"python_articles\"])\n\n# le nombre d'articles concernant les Jupyter Notebooks pour chaque année\njupyter_counts = []\nfor year in range(1995, 2023):\n    req = await request(f\"https://api.archives-ouvertes.fr/search/?q=text_fulltext:(jupyter AND (notebook OR notebooks))&fq=producedDateY_i:{year}&rows=0\", method='GET', headers=headers)\n    req_json = await req.json()\n    year_count = req_json.get(\"response\", {}).get(\"numFound\", 0)\n    jupyter_counts.append((year, year_count))\njupyter_df = pd.DataFrame(jupyter_counts, columns=[\"year\", \"jupyter_articles\"])\n\n# Fusionne les trois dataframes\nmerged_df = pd.merge(total_df, python_df, on=\"year\")\nmerged_df = pd.merge(merged_df, jupyter_df, on=\"year\")\n\n# Calcul le pourcentage des articles concernant Python et les JupyterNotebooks pour chaque année.\nmerged_df[\"percent_python\"] = merged_df[\"python_articles\"] / merged_df[\"total_articles\"] * 100\nmerged_df[\"percent_jupyter\"] = merged_df[\"jupyter_articles\"] / merged_df[\"total_articles\"] * 100\n\n# Visualise le tableau\nprint(merged_df)",
      "metadata": {
        "trusted": true
      },
      "execution_count": 17,
      "outputs": [
        {
          "name": "stdout",
          "text": "    year  total_articles  python_articles  jupyter_articles  percent_python  \\\n0   1995           22533                2                 0        0.008876   \n1   1996           24145                1                 0        0.004142   \n2   1997           25887                4                 0        0.015452   \n3   1998           27664                4                 0        0.014459   \n4   1999           28579                6                 0        0.020994   \n5   2000           33232                8                 0        0.024073   \n6   2001           35191               10                 0        0.028416   \n7   2002           42263               14                 0        0.033126   \n8   2003           51682               31                 0        0.059982   \n9   2004           63018               34                 0        0.053953   \n10  2005           83761               67                 0        0.079989   \n11  2006          100035              114                 0        0.113960   \n12  2007          110165              109                 0        0.098942   \n13  2008          115676              160                 0        0.138317   \n14  2009          125311              227                 0        0.181149   \n15  2010          137372              332                 0        0.241680   \n16  2011          143026              448                 0        0.313230   \n17  2012          149487              564                 0        0.377290   \n18  2013          158527              663                 0        0.418225   \n19  2014          164907              874                 0        0.529996   \n20  2015          175704             1054                 1        0.599873   \n21  2016          187138             1391                13        0.743302   \n22  2017          195483             1944                23        0.994460   \n23  2018          199052             2602                69        1.307196   \n24  2019          200807             3608               109        1.796750   \n25  2020          173254             4141               140        2.390132   \n26  2021          182418             5183               213        2.841277   \n27  2022          159700             5239               224        3.280526   \n\n    percent_jupyter  \n0          0.000000  \n1          0.000000  \n2          0.000000  \n3          0.000000  \n4          0.000000  \n5          0.000000  \n6          0.000000  \n7          0.000000  \n8          0.000000  \n9          0.000000  \n10         0.000000  \n11         0.000000  \n12         0.000000  \n13         0.000000  \n14         0.000000  \n15         0.000000  \n16         0.000000  \n17         0.000000  \n18         0.000000  \n19         0.000000  \n20         0.000569  \n21         0.006947  \n22         0.011766  \n23         0.034664  \n24         0.054281  \n25         0.080806  \n26         0.116765  \n27         0.140263  \n",
          "output_type": "stream"
        }
      ],
      "id": "1e06648a-9d28-4c94-870f-60c189d0aefc"
    },
    {
      "cell_type": "markdown",
      "source": "Le tableau montre que le pourcentage des documents mentionnant Python et les Jupyter Notebooks augmente au fil des années dans le total de documents publiés dans HAL. L'intérêt pour ce langage de programmation et ce type de carnets interactifs semble donc augmenter sensiblement dans le cadre de la recherche.\n\nEn effet, si en 2002, les documents relatifs à Python ne représentaient que 0,03% du total des documents présents dans HAL, ce chiffre est passé à 0,37% en 2012 et a atteint 3,31% en 2022. Notons aussi, que le projet Jupyter a été lancé en 2014 et que les premiers résultats apparaissent en 2015 avec un document traitant des Jupyter Notebooks. En 2019, le pourcentage des documents relatifs aux Jupyter Notebooks représentaient 0,05% du nombre total de documents présents dans HAL. Ce chiffre est de 0,14% en 2022. Bien que l'intérêt pour Python et les Jupyter Notebooks soit en hausse, le nombre d'articles les concernant reste relativement faible par rapport au nombre d'articles total dans la base de données de HAL.",
      "metadata": {},
      "id": "5d096e3a-47f8-48c7-b957-d257a1d0e7db"
    },
    {
      "cell_type": "markdown",
      "source": "## Section 2 : Travail d'analyse sur la recherche \"Python\" et \"Jupyter Notebook\".\n\nCette section permet d'apprendre à faire une requête multicritères dans l'API de HAL pour obtenir un type particulier de documents (articles, communicatoin ou autres) au sein d'une recherche précise (dans notre exemple, la recherche des mots clés \"Python\" ou \"Jupyter Notebook(s)).\n\nNous verrons aussi comment récupérer dans l'API de HAL le domaine de recherche pour identifier les disciplines qui intègrent le plus les Jupyter Notebooks dans leur pratique de recherche ou d'enseignement. Notre hypothèse étant bien sûr que ces outils sont plus présents en informatique et dans les disciplines scientifiques qu'en sciences humaines et sociales. Cela nous permettra d'affiner l'analyse des résulats obtenus dans les sections précédentes.",
      "metadata": {},
      "id": "beebf154-6f3a-4bbd-935c-f2ae0647579f"
    },
    {
      "cell_type": "markdown",
      "source": "## <span style=\"font-size: 12pt\"> 2.0 : Obtenir le type de document en fonction d'une recherche.</span>",
      "metadata": {
        "tags": []
      },
      "id": "c09fc3dc-6e3c-438f-96df-01890c7de2e1"
    },
    {
      "cell_type": "code",
      "source": "async def get_doc_types(query):\n    req = await request(f\"https://api.archives-ouvertes.fr/search/?q={query}&rows=0&facet=true&facet.field=docType_s\", method='GET', headers=headers)\n    req_json = await req.json()\n    doc_types = req_json[\"facet_counts\"][\"facet_fields\"][\"docType_s\"]\n    doc_types = [doc_types[i:i+2] for i in range(0, len(doc_types), 2)]\n    total_docs = req_json[\"response\"][\"numFound\"]\n    doc_types_dict = {doc_type: count/total_docs*100 for doc_type, count in doc_types}\n    return doc_types_dict",
      "metadata": {
        "trusted": true
      },
      "execution_count": 18,
      "outputs": [],
      "id": "ab0fc7b1-3a79-46ba-9877-7dcacd84ce58"
    },
    {
      "cell_type": "markdown",
      "source": "Nous rédigeons une fonction que nous invoquerons dans la suite de notre code comme dans la Section 1.",
      "metadata": {},
      "id": "f23700fb-27e7-46ec-8581-9352cbb81e0d"
    },
    {
      "cell_type": "code",
      "source": "doc_types = await get_doc_types(\"text_fulltext:(python)\")\nprint(doc_types)",
      "metadata": {
        "trusted": true
      },
      "execution_count": 21,
      "outputs": [
        {
          "name": "stderr",
          "text": "<ipython-input-21-85cd98f4e7c8>:1: RuntimeWarning: coroutine 'get_doc_types' was never awaited\n  doc_types = await get_doc_types(\"text_fulltext:(python)\")\nRuntimeWarning: Enable tracemalloc to get the object allocation traceback\n",
          "output_type": "stream"
        },
        {
          "name": "stdout",
          "text": "{'ART': 47.283041401273884, 'COMM': 25.451167728237795, 'THESE': 12.009023354564755, 'UNDEFINED': 5.347664543524417, 'REPORT': 2.6406581740976645, 'MEM': 2.2458864118895963, 'COUV': 1.479564755838641, 'POSTER': 0.8359872611464968, 'HDR': 0.6833864118895966, 'OTHER': 0.5540074309978769, 'OUV': 0.41467622080679406, 'LECTURE': 0.3284235668789809, 'PROCEEDINGS': 0.21894904458598727, 'SOFTWARE': 0.17582271762208068, 'BLOG': 0.11279193205944799, 'PRESCONF': 0.08957006369426752, 'ISSUE': 0.029856687898089172, 'VIDEO': 0.02322186836518047, 'OTHERREPORT': 0.016587048832271762, 'REPORT_FORM': 0.01326963906581741, 'REPORT_LICE': 0.01326963906581741, 'REPORT_LABO': 0.009952229299363059, 'ETABTHESE': 0.0033174097664543526, 'MAP': 0.0033174097664543526, 'MEMLIC': 0.0033174097664543526, 'REPORT_LPRO': 0.0033174097664543526, 'REPORT_MAST': 0.0033174097664543526, 'SYNTHESE': 0.0033174097664543526, 'TRAD': 0.0033174097664543526, 'CREPORT': 0.0, 'DOUV': 0.0, 'IMG': 0.0, 'MANUAL': 0.0, 'NOTE': 0.0, 'NOTICE': 0.0, 'PATENT': 0.0, 'REPACT': 0.0, 'REPORT_COOR': 0.0, 'REPORT_DOCT': 0.0, 'REPORT_ETAB': 0.0, 'REPORT_FPROJ': 0.0, 'REPORT_GLICE': 0.0, 'REPORT_GMAST': 0.0, 'REPORT_RETABINT': 0.0, 'REPORT_RFOINT': 0.0, 'SON': 0.0}\n",
          "output_type": "stream"
        }
      ],
      "id": "1df107f7-a086-481d-a0fe-2638b7768e33"
    },
    {
      "cell_type": "markdown",
      "source": "Nous contastons que parmi les documents liés à Python dans la base de données HAL, les articles scientifiques représentent 47%, suivis des communications à 25%, et des thèses à 11%. En revanche, les cours ne représentent qu'une faible proportion de 0,32%.",
      "metadata": {},
      "id": "d6b3b3fc-17ae-42eb-85af-fc60deb199fb"
    },
    {
      "cell_type": "code",
      "source": "doc_types = await get_doc_types(\"jupyter AND (notebook OR notebooks)\")\nprint(doc_types)",
      "metadata": {
        "trusted": true
      },
      "execution_count": 22,
      "outputs": [
        {
          "name": "stdout",
          "text": "{'ART': 39.130434782608695, 'COMM': 32.608695652173914, 'BLOG': 6.521739130434782, 'LECTURE': 6.521739130434782, 'UNDEFINED': 5.434782608695652, 'OUV': 2.1739130434782608, 'REPORT': 2.1739130434782608, 'SOFTWARE': 2.1739130434782608, 'POSTER': 1.0869565217391304, 'THESE': 1.0869565217391304, 'VIDEO': 1.0869565217391304, 'COUV': 0.0, 'CREPORT': 0.0, 'DOUV': 0.0, 'ETABTHESE': 0.0, 'HDR': 0.0, 'IMG': 0.0, 'ISSUE': 0.0, 'MANUAL': 0.0, 'MAP': 0.0, 'MEM': 0.0, 'MEMLIC': 0.0, 'NOTE': 0.0, 'NOTICE': 0.0, 'OTHER': 0.0, 'OTHERREPORT': 0.0, 'PATENT': 0.0, 'PRESCONF': 0.0, 'PROCEEDINGS': 0.0, 'REPACT': 0.0, 'REPORT_COOR': 0.0, 'REPORT_DOCT': 0.0, 'REPORT_ETAB': 0.0, 'REPORT_FORM': 0.0, 'REPORT_FPROJ': 0.0, 'REPORT_GLICE': 0.0, 'REPORT_GMAST': 0.0, 'REPORT_LABO': 0.0, 'REPORT_LICE': 0.0, 'REPORT_LPRO': 0.0, 'REPORT_MAST': 0.0, 'REPORT_RETABINT': 0.0, 'REPORT_RFOINT': 0.0, 'SON': 0.0, 'SYNTHESE': 0.0, 'TRAD': 0.0}\n",
          "output_type": "stream"
        }
      ],
      "id": "d3c690ca-86e7-49aa-bc43-48d05c1fcb13"
    },
    {
      "cell_type": "markdown",
      "source": "Le constat est le même pour les Jupyter Notebooks : les documents sont à 39% des articles scientifiques, les communications 32% et des blogs à 6,52%. Les cours représentent seulement 6%.",
      "metadata": {},
      "id": "52a7d308-5b4c-433a-bbfb-ba7e61dfadd6"
    },
    {
      "cell_type": "markdown",
      "source": "Nous pouvons nous demander aussi dans quelle discipline les Jupyter Notebooks sont utilisés. Notre hypothèse est que ce format est plus utilisé en informatique et dans les disciplines scientifiques comme en physique par exemple.",
      "metadata": {},
      "id": "c9726618-d48c-42a4-bd4c-358b4bb99c6b"
    },
    {
      "cell_type": "markdown",
      "source": "## <span style=\"font-size: 12pt\"> 2.1 : De quel domaine de recherche relèvent les Jupyter Notebooks? </span>",
      "metadata": {
        "tags": []
      },
      "id": "7c935c5e-d733-48c3-87a5-d1b57e05f4c4"
    },
    {
      "cell_type": "markdown",
      "source": "Nous allons à présent nous intéresser aux disciplines qui mentionnent les Jupyter Notebooks.",
      "metadata": {},
      "id": "73db9e10-517e-4bc7-8048-b2164ec7b4b1"
    },
    {
      "cell_type": "code",
      "source": "# Faire la requête pour obtenir le nombre de documents contenant \"jupyter\" et \"notebook(s)\"\nreq = await request(\"https://api.archives-ouvertes.fr/search/?q=text_fulltext:(jupyter AND (notebook OR notebooks))&rows=0&facet=true&facet.field=domain_s\", method='GET', headers=headers)\n\n# Obtenir les données de la requête au format JSON\nreq_json = await req.json()\n\n# Extraire le nombre de publications par domaine\ndomain_counts = req_json[\"facet_counts\"][\"facet_fields\"][\"domain_s\"]\ndomain_counts = [(domain_counts[i], domain_counts[i+1]) for i in range(0, len(domain_counts), 2)]\n\n# Séparer les domaines multiples et leur nombre de documents en entrées individuelles\ndomain_counts_split = []\nfor domain_count in domain_counts:\n    domains = domain_count[0].split(';')\n    for domain in domains:\n        domain_counts_split.append((domain.strip(), domain_count[1]))  # Garder le domaine complet\n\n# Calculer le nombre total de documents\ntotal = sum([count for _, count in domain_counts_split])\n\n# Calculer le pourcentage de documents par domaine\ndomain_percents = [(domain[0], domain[1]/total*100) for domain in domain_counts_split]\n\n# Filtrer les domaines ayant un seul mot et un pourcentage supérieur à 0,5% et supprimer les domaines spécifiques\ndomain_percents_filtered = [(domain, percent) for domain, percent in domain_percents if percent > 0.5 and len(domain.split()) == 1\n                            and not any(domain_specific in domain for domain_specific in [\"1.info.info-ai\", \"1.info.info-bi\", \"1.phys.astr\", \"info.info-lg\", \"sdv.neu\", \"sdu.ocean\", \"math.math-st\"])]\n\n# Supprimer les domaines qui commencent par \"1\"\ndomain_percents_filtered = [(domain, percent) for domain, percent in domain_percents_filtered if not domain.startswith(\"1\")]\n\n# Créer un dataframe à partir des pourcentages filtrés et trier par ordre décroissant\ndf = pd.DataFrame(domain_percents_filtered, columns=[\"Domaine\", \"Pourcentage\"])\ndf = df.sort_values(by=[\"Pourcentage\"], ascending=False)\n\n# Afficher le dataframe\nprint(df)",
      "metadata": {
        "trusted": true
      },
      "execution_count": 23,
      "outputs": [
        {
          "name": "stderr",
          "text": "<ipython-input-23-a8a7a5f98a5e>:32: RuntimeWarning: coroutine 'get_publication_counts' was never awaited\n  df = pd.DataFrame(domain_percents_filtered, columns=[\"Domaine\", \"Pourcentage\"])\nRuntimeWarning: Enable tracemalloc to get the object allocation traceback\n",
          "output_type": "stream"
        },
        {
          "name": "stdout",
          "text": "   Domaine  Pourcentage\n0   0.info    17.922875\n1    0.sdv     7.099036\n2   0.phys     4.469763\n3    0.sdu     4.119194\n4    0.shs     3.856266\n5   0.math     3.067485\n6    0.spi     2.892200\n7    0.sde     1.840491\n8   0.stat     1.621385\n9   0.scco     1.139351\n10  0.chim     1.051709\n",
          "output_type": "stream"
        }
      ],
      "id": "1f7a85a8-0e76-4f6b-8914-de66254af588"
    },
    {
      "cell_type": "markdown",
      "source": "Les résultats obtenus confirment notre hypothèse. Les Jupyter Notebooks commencent à être utilisés dans les disciplines SHS, mais très peu : 3,8%. L'évolution de l'utilisation des Notebooks est plus marquée en informatique : (17%) en Sciences de la Vie (7%) ou bien en physique (4,4%).\n\nEn effet, il y a encore peu de Notebooks en SHS que cela soit en Histoire ou en Géographie (sans parler de l'archéologie, de la la littérature ou de la philosophie). Une explication pourrait être que la pratique des Notebooks en SHS est nouvelle et aussi que les sciences sociales ont moins besoin d'utiliser des langages de programmation dans leur pratique quotidienne. \n\nEnfin, le manque de ressources pour se former et cas d'études sur l'utilisation des Jupyter Notebooks dans le cadre des SHS semblent un frein à l'appropriation de cet outil par les praticiens SHS.",
      "metadata": {},
      "id": "254e8d2a-a128-432a-8cba-b44b8be9b508"
    },
    {
      "cell_type": "markdown",
      "source": "## Section 3 : Travail général sur les pratiques numériques des chercheurs.\n\nNous allons voir dans cette partie quels sont les logiciels et les différents langages informatiques (autre que Python) que les chercheurs utilisent le plus dans la base de HAL.",
      "metadata": {},
      "id": "eacdf6fb-0258-4d0a-8bcd-0a39942011d0"
    },
    {
      "cell_type": "markdown",
      "source": "## <span style=\"font-size: 12pt\"> 3.0 : Les autres pratiques numériques des chercheurs.</span>",
      "metadata": {},
      "id": "8f3018ec-52c7-4aeb-b535-a6c67764640f"
    },
    {
      "cell_type": "code",
      "source": "# Liste des termes de recherche\nterms = [\"langage de programmation Julia\", \"Rstudio\", \"Python\", \"pascal langage informatique\", \"Matlab\", \"Javascript\", \"Spss\", \"Stata\", \"Fortran\", \"Javascript\", \"Bash\", \"Rust\", \"SAS\", \"Excel\", \"Libreoffice\", \"Perl\", \"HTML\"]\n\n# Dictionnaire pour stocker les résultats\nresults = {}\n\n# Pour chaque terme de recherche, faire une requête et extraire le nombre total de résultats\nfor term in terms:\n    req = await request(f\"https://api.archives-ouvertes.fr/search/?q={term}&rows=0\", method='GET', headers=headers)\n    req_json = await req.json()\n    total = req_json[\"response\"][\"numFound\"]\n    results[term] = total\n\n# Afficher les résultats sous forme de tableau\nimport pandas as pd\n\ndf = pd.DataFrame.from_dict(results, orient=\"index\", columns=[\"Nombre de documents\"])\ndf = df.sort_values(by=[\"Nombre de documents\"], ascending=False)\n\nprint(df)",
      "metadata": {
        "trusted": true
      },
      "execution_count": 24,
      "outputs": [
        {
          "name": "stdout",
          "text": "                                Nombre de documents\nSAS                                           10826\nMatlab                                         2868\nHTML                                           2741\nPython                                         2654\nRust                                           1121\nPerl                                            854\nExcel                                           672\nFortran                                         546\nJavascript                                      434\nStata                                           428\nSpss                                            364\npascal langage informatique                     217\nBash                                             47\nRstudio                                          43\nLibreoffice                                      12\nlangage de programmation Julia                    8\n",
          "output_type": "stream"
        }
      ],
      "id": "7e4842cc-1c8d-4bd5-ab7b-dcf3525ef902"
    },
    {
      "cell_type": "markdown",
      "source": "Il est intéressant de voir les différentes pratiques numériques des chercheurs. Python a pris beaucoup d'importance mais il est important de voir que les chercheurs utilisent aussi d'autres langages informatiques comme HTML, Perl, Pascal ou bien Javascript. Les chercheurs utilisent aussi des logiciels comme Rstudio, LibreOffice mais surtout Excel.",
      "metadata": {},
      "id": "23725088-0084-4a26-bcae-29f0b8f96ea1"
    },
    {
      "cell_type": "markdown",
      "source": "## <span style=\"font-size: 12pt\"> 3.1 : Les principaux types de documents.</span>",
      "metadata": {},
      "id": "be534a0f-e253-46ac-9145-ad6ed1879458"
    },
    {
      "cell_type": "markdown",
      "source": "Il est important de voir les autres pratiques numériques des chercheurs anglais ou français et de comparer le type de document produit dans la plateforme HAL.",
      "metadata": {},
      "id": "2afd5e72-e4d5-4664-a6eb-c8dfdf6827d2"
    },
    {
      "cell_type": "code",
      "source": "# Liste des termes de recherche\nterms = [\"langage de programmation Julia\", \"Rstudio\", \"Python\", \"pascal langage informatique\", \"Matlab\", \"Javascript\", \"Spss\", \"Stata\", \"Fortran\", \"Javascript\", \"Bash\", \"Rust\", \"SAS\", \"Excel\", \"Libreoffice\", \"Perl\", \"HTML\"]\n\n# Dictionnaire pour stocker les résultats\nresults = {}\n\n# Pour chaque terme de recherche, faire une requête et extraire les pourcentages de chaque type de document\nfor term in terms:\n    doc_types_dict = await get_doc_types(term)\n    results[term] = doc_types_dict\n\n# Afficher les résultats sous forme de tableau\ndf_list = []\nfor term, doc_types_dict in results.items():\n    df = pd.DataFrame.from_dict(doc_types_dict, orient=\"index\", columns=[term])\n    df = df.loc[df[term] > 0].sort_values(by=[term], ascending=False).head(3)\n    df.dropna(axis=1, inplace=True)\n    df_list.append(df)\n\ndf_final = pd.concat(df_list, axis=1)\ndf_final.fillna(\"\", inplace=True)\ndf_final.dropna(axis=0, how='all', inplace=True)\nprint(df_final)",
      "metadata": {
        "trusted": true
      },
      "execution_count": 26,
      "outputs": [
        {
          "name": "stderr",
          "text": "<ipython-input-26-1cd59d51d6f1>:5: RuntimeWarning: coroutine 'get_doc_types' was never awaited\n  results = {}\nRuntimeWarning: Enable tracemalloc to get the object allocation traceback\n",
          "output_type": "stream"
        },
        {
          "name": "stdout",
          "text": "          langage de programmation Julia    Rstudio     Python  \\\nCOMM                                62.5   32.55814  24.604371   \nTHESE                               25.0              6.443105   \nLECTURE                             12.5                         \nART                                       25.581395  48.078372   \nREPORT                                     9.302326              \nCOUV                                                             \nPOSTER                                                           \nMEM                                                              \nBLOG                                                             \nUNDEFINED                                                        \nOTHER                                                            \n\n          pascal langage informatique     Matlab Javascript       Spss  \\\nCOMM                        42.396313  41.875872   54.83871  17.307692   \nTHESE                       12.903226  14.191074   6.912442  12.087912   \nLECTURE                                                                  \nART                         21.198157  31.834031  16.359447  54.120879   \nREPORT                                                                   \nCOUV                                                                     \nPOSTER                                                                   \nMEM                                                                      \nBLOG                                                                     \nUNDEFINED                                                                \nOTHER                                                                    \n\n               Stata    Fortran       Bash       Rust        SAS      Excel  \\\nCOMM                  22.161172  21.276596  20.517395  27.748014  20.684524   \nTHESE      12.383178                         5.263158                         \nLECTURE                                                                       \nART        39.719626  39.010989  38.297872  64.674398  55.089599  32.142857   \nREPORT                15.567766                                               \nCOUV       11.682243             10.638298                                    \nPOSTER                                                  4.553852              \nMEM                                                               23.958333   \nBLOG                                                                          \nUNDEFINED                                                                     \nOTHER                                                                         \n\n          Libreoffice       Perl       HTML  \nCOMM        41.666667  20.725995  26.340752  \nTHESE                                        \nLECTURE                                      \nART                     72.36534  47.245531  \nREPORT      16.666667                        \nCOUV                                         \nPOSTER                                       \nMEM                                          \nBLOG             25.0                        \nUNDEFINED               1.639344             \nOTHER                              4.815761  \n",
          "output_type": "stream"
        }
      ],
      "id": "fb2d8d8c-57be-459a-bed6-62e3df028bb8"
    },
    {
      "cell_type": "markdown",
      "source": "D'après les résultats obtenus, il apparaît que les types de documents les plus fréquemment associés à nos termes de recherche sont très majoritairement soit des articles scientifiques ou des communications ce qui est le même résultat que pour \"Python\" et les \"Jupyter Notebooks\" obtenu dans la section 2.0",
      "metadata": {},
      "id": "d2b951f3-e580-494b-a662-0f7d245c3260"
    },
    {
      "cell_type": "markdown",
      "source": "Nous avons vu comment mettre des paramètres avec le \"query string\" mais il y a une autre manière de faire.\n\nNous pouvons construire un dictionnaire et ensuite passer le dictionnaire en tant qu'argument à la fonction requests.get. Lorsque la requête est effectuée, la bibliothèque requests construit automatiquement l'URL avec les paramètres spécifiés dans le dictionnaire.\n\nCela permet de spécifier les paramètres de manière plus structurée et flexible, en utilisant une syntaxe de dictionnaire.",
      "metadata": {},
      "id": "fc2833aa-b947-4e16-ac77-8eea51e28d88"
    },
    {
      "cell_type": "code",
      "source": "# Effectuer une requête pour obtenir les types de document pour tous les documents dans HAL\nparams = {\n    \"q\": \"*:*\",\n    \"rows\": 0,\n    \"fl\": \"docType_s\",\n    \"facet\": \"true\",\n    \"facet.field\": \"docType_s\"\n}\nreq = await request(\"https://api.archives-ouvertes.fr/search/\", params=params, method='GET', headers=headers)\nreq_json = await req.json()\n\n# Extraire les types de document et leurs nombres de la réponse JSON\ndoc_types = req_json[\"facet_counts\"][\"facet_fields\"][\"docType_s\"]\ndoc_types_dict = {doc_type: count for doc_type, count in zip(doc_types[::2], doc_types[1::2])}\n\n# Créer un DataFrame à partir des types de document\ndf = pd.DataFrame.from_dict(doc_types_dict, orient=\"index\", columns=[\"Nombre de documents\"])\ndf = df.sort_values(by=[\"Nombre de documents\"], ascending=False)\n\n# Calculer les pourcentages de chaque type de document par rapport au total\ntotal_documents = df[\"Nombre de documents\"].sum()\ndf[\"Pourcentage\"] = df[\"Nombre de documents\"] / total_documents * 100\n\n# Afficher le DataFrame\nprint(df)",
      "metadata": {
        "trusted": true
      },
      "execution_count": 27,
      "outputs": [
        {
          "name": "stdout",
          "text": "dict_keys(['response'])\n",
          "output_type": "stream"
        },
        {
          "name": "stderr",
          "text": "/lib/python311.zip/ast.py:50: RuntimeWarning: coroutine 'get_doc_types' was never awaited\nRuntimeWarning: Enable tracemalloc to get the object allocation traceback\n",
          "output_type": "stream"
        },
        {
          "ename": "<class 'KeyError'>",
          "evalue": "'facet_counts'",
          "traceback": [
            "\u001b[0;31m---------------------------------------------------------------------------\u001b[0m",
            "\u001b[0;31mKeyError\u001b[0m                                  Traceback (most recent call last)",
            "Cell \u001b[0;32mIn[28], line 13\u001b[0m\n\u001b[1;32m     11\u001b[0m \u001b[38;5;28mprint\u001b[39m(req_json\u001b[38;5;241m.\u001b[39mkeys())\n\u001b[1;32m     12\u001b[0m \u001b[38;5;66;03m# Extraire les types de document et leurs nombres de la réponse JSON\u001b[39;00m\n\u001b[0;32m---> 13\u001b[0m doc_types \u001b[38;5;241m=\u001b[39m \u001b[43mreq_json\u001b[49m\u001b[43m[\u001b[49m\u001b[38;5;124;43m\"\u001b[39;49m\u001b[38;5;124;43mfacet_counts\u001b[39;49m\u001b[38;5;124;43m\"\u001b[39;49m\u001b[43m]\u001b[49m[\u001b[38;5;124m\"\u001b[39m\u001b[38;5;124mfacet_fields\u001b[39m\u001b[38;5;124m\"\u001b[39m][\u001b[38;5;124m\"\u001b[39m\u001b[38;5;124mdocType_s\u001b[39m\u001b[38;5;124m\"\u001b[39m]\n\u001b[1;32m     14\u001b[0m doc_types_dict \u001b[38;5;241m=\u001b[39m {doc_type: count \u001b[38;5;28;01mfor\u001b[39;00m doc_type, count \u001b[38;5;129;01min\u001b[39;00m \u001b[38;5;28mzip\u001b[39m(doc_types[::\u001b[38;5;241m2\u001b[39m], doc_types[\u001b[38;5;241m1\u001b[39m::\u001b[38;5;241m2\u001b[39m])}\n\u001b[1;32m     16\u001b[0m \u001b[38;5;66;03m# Créer un DataFrame à partir des types de document\u001b[39;00m\n",
            "\u001b[0;31mKeyError\u001b[0m: 'facet_counts'"
          ],
          "output_type": "error"
        }
      ],
      "id": "6289c56f-7fd4-48d5-829a-0742685a75d9"
    },
    {
      "cell_type": "markdown",
      "source": "En analysant le nombre total de documents dans la base de HAL, on constate que les deux types de documents les plus fréquents sont des articles scientifiques et des communications. \nNous pouvons comparer cela aux résultats obtenus pour \"Python\" et les \"Jupyter Notebooks\" dans la section 2.\n\nPour Python, les articles (47%) et les communications (25%) représentent 72% des documents présents. \nPour les Jupyter Notebooks, les articles (39%) et les communications (32%) représentent 71% des documents présents.\n\nLes résultats sont donc similaires pour l'ensemble des documents, les articles scientifiques (47%) et les communications (23%) représentent aussi la majorité des documents dans la base HAL avec environ 70% des documents présents.",
      "metadata": {},
      "id": "ee5d1acc-74a5-4076-b67d-50406e20aefc"
    },
    {
      "cell_type": "markdown",
      "source": "Pour finir notre Notebook interactif, voici l'ipywidget comme promis en introduction pour les utilisateurs non programmeurs mais intéréssés pour interagir avec le document !",
      "metadata": {},
      "id": "ee93dcb8-47e7-4959-85e3-67e636d1ba47"
    },
    {
      "cell_type": "markdown",
      "source": "Les IpyWidgets permettent à des utilisateurs qui ne savent pas coder d'utiliser l'API des HAL avec des paramètres comme le type de documents ou les années.",
      "metadata": {},
      "id": "8ae0876a-4a12-4fd1-9247-cd17049df3f1"
    },
    {
      "cell_type": "code",
      "source": "%pip install -q ipywidgets",
      "metadata": {
        "trusted": true
      },
      "execution_count": 2,
      "outputs": [],
      "id": "ed61eb9d-4e58-43f2-a57e-7fbd4feec6c8"
    },
    {
      "cell_type": "code",
      "source": "# import requests\nimport asyncio\nimport ipywidgets as widgets\nimport matplotlib.pyplot as plt\nimport pandas as pd\nfrom IPython.display import display\nimport json\n\n# Fonction pour effectuer la requête sur l'API HAL\nasync def make_hal_request(query, year, doc_type):\n    headers = {}\n    url = f\"https://api.archives-ouvertes.fr/search/?q={query}&fq=docType_s:{doc_type}&fq=producedDateY_i:{year}&wt=json\"\n    response = await request(url, method='GET', headers=headers)\n    try:\n        data = await response.json()\n        return data\n    except json.JSONDecodeError:\n        print('Erreur lors de l\\'analyse de la réponse JSON de l\\'API.')\n        return None\n\n# Options de requête\ndoc_types = ['ART', 'COMM', 'OUV', 'THESE']\n\n# Création des widgets\nquery_widget = widgets.Textarea(value='', placeholder='Saisissez votre requête ici', description='Requête:')\nyear_widget = widgets.Dropdown(options=['Toutes les années'] + list(range(2010, 2023)), description='Année:')\ndoc_type_widget = widgets.Dropdown(options=['Tous les types'] + doc_types, description='Type de document:')\ndisplay_type_widget = widgets.RadioButtons(options=['Tableau', 'Graphique'], description='Affichage:')\nbutton = widgets.Button(description='Effectuer la requête')\n\n# Fonction de rappel du bouton\ndef on_button_click(b):\n    query = query_widget.value.strip()\n    year = year_widget.value\n    doc_type = doc_type_widget.value\n    \n    # Vérification de la validité de la requête\n    if not query:\n        print('Veuillez saisir une requête valide.')\n        return\n    \n    # Si l'option \"Toutes les années\" est sélectionnée, on utilise un caractère générique '*' pour la requête\n    if year == 'Toutes les années':\n        year = '*'\n    \n    # Si l'option \"Tous les types\" est sélectionnée, on utilise un caractère générique '*' pour le type de document\n    if doc_type == 'Tous les types':\n        doc_type = '*'\n        \n    print(f'query: {query}')\n    \n    # Appel de la fonction pour effectuer la requête\n    data = asyncio.run(make_hal_request(query, year, doc_type))\n    \n    # Vérification de la réponse de l'API\n    if data is None:\n        return\n    \n    # Traitement des résultats\n    num_results = data['response']['numFound']\n    print(f\"Nombre total de documents : {num_results}\")\n    \n    # Exemple d'affichage sous forme de tableau\n    if display_type_widget.value == 'Tableau':\n        if year == '*':\n            if doc_type == '*':\n                years = list(range(2010, 2023))\n                counts = []\n                for year in years:\n                    data = make_hal_request(query, year, doc_type)\n                    if data is not None:\n                        counts.append(data['response']['numFound'])\n                \n                df = pd.DataFrame({'Année': years, 'Nombre de documents': counts})\n                display(df)\n            else:\n                print('Veuillez sélectionner \"Toutes les années\" pour afficher les résultats sous forme de tableau.')\n        else:\n            print('Veuillez sélectionner \"Toutes les années\" pour afficher les résultats sous forme de tableau.')\n    \n    # Exemple d'affichage sous forme de graphique\n    elif display_type_widget.value == 'Graphique':\n        if year == '*':\n            if doc_type == '*':\n                years = list(range(2010, 2023))\n                counts = []\n                for year in years:\n                    data = make_hal_request(query, year, doc_type)\n                    if data is not None:\n                        counts.append(data['response']['numFound'])\n                \n                plt.figure(figsize=(10, 6))\n                plt.plot(years, counts, marker='o')\n                plt.xlabel('Année')\n                plt.ylabel(\"Nombre de documents\")\n                plt.title('Nombre de documents publiés par année')\n                plt.show()\n            else:\n                print('Veuillez sélectionner \"Toutes les années\" pour afficher les résultats sous forme de graphique.')\n        else:\n            print('Veuillez sélectionner \"Toutes les années\" pour afficher les résultats sous forme de graphique.')\n\n# Lier la fonction de rappel au bouton\nbutton.on_click(on_button_click)\n\n# Afficher les widgets\ndisplay(query_widget, year_widget, doc_type_widget, display_type_widget, button)\n",
      "metadata": {
        "trusted": true
      },
      "execution_count": 5,
      "outputs": [
        {
          "output_type": "display_data",
          "data": {
            "text/plain": "Textarea(value='', description='Requête:', placeholder='Saisissez votre requête ici')",
            "application/vnd.jupyter.widget-view+json": {
              "version_major": 2,
              "version_minor": 0,
              "model_id": "4048014e78e04763a2b132e4a56a7261"
            }
          },
          "metadata": {}
        },
        {
          "output_type": "display_data",
          "data": {
            "text/plain": "Dropdown(description='Année:', options=('Toutes les années', 2010, 2011, 2012, 2013, 2014, 2015, 2016, 2017, 2…",
            "application/vnd.jupyter.widget-view+json": {
              "version_major": 2,
              "version_minor": 0,
              "model_id": "7c802f6e2c2b43aa8c6b65a92e9dd1a7"
            }
          },
          "metadata": {}
        },
        {
          "output_type": "display_data",
          "data": {
            "text/plain": "Dropdown(description='Type de document:', options=('Tous les types', 'ART', 'COMM', 'OUV', 'THESE'), value='To…",
            "application/vnd.jupyter.widget-view+json": {
              "version_major": 2,
              "version_minor": 0,
              "model_id": "157fd3ca3dac44eea55308f90a98689b"
            }
          },
          "metadata": {}
        },
        {
          "output_type": "display_data",
          "data": {
            "text/plain": "RadioButtons(description='Affichage:', options=('Tableau', 'Graphique'), value='Tableau')",
            "application/vnd.jupyter.widget-view+json": {
              "version_major": 2,
              "version_minor": 0,
              "model_id": "04d2397ab10749dabe2255c042317009"
            }
          },
          "metadata": {}
        },
        {
          "output_type": "display_data",
          "data": {
            "text/plain": "Button(description='Effectuer la requête', style=ButtonStyle())",
            "application/vnd.jupyter.widget-view+json": {
              "version_major": 2,
              "version_minor": 0,
              "model_id": "5daba442f9594d5aa1ea98fb1ce569cf"
            }
          },
          "metadata": {}
        }
      ],
      "id": "892a7d22-a42b-4c31-a9ca-6ff1221b0263"
    },
    {
      "cell_type": "code",
      "source": "button.click()",
      "metadata": {
        "trusted": true
      },
      "execution_count": 6,
      "outputs": [
        {
          "name": "stdout",
          "text": "query: (python)\n",
          "output_type": "stream"
        },
        {
          "ename": "<class 'RuntimeError'>",
          "evalue": "asyncio.run() cannot be called from a running event loop",
          "traceback": [
            "\u001b[0;31m---------------------------------------------------------------------------\u001b[0m",
            "\u001b[0;31mRuntimeError\u001b[0m                              Traceback (most recent call last)",
            "Cell \u001b[0;32mIn[5], line 53\u001b[0m, in \u001b[0;36mon_button_click\u001b[0;34m(b)\u001b[0m\n\u001b[1;32m     50\u001b[0m \u001b[38;5;28mprint\u001b[39m(\u001b[38;5;124mf\u001b[39m\u001b[38;5;124m'\u001b[39m\u001b[38;5;124mquery: \u001b[39m\u001b[38;5;132;01m{\u001b[39;00mquery\u001b[38;5;132;01m}\u001b[39;00m\u001b[38;5;124m'\u001b[39m)\n\u001b[1;32m     52\u001b[0m \u001b[38;5;66;03m# Appel de la fonction pour effectuer la requête\u001b[39;00m\n\u001b[0;32m---> 53\u001b[0m data \u001b[38;5;241m=\u001b[39m \u001b[43masyncio\u001b[49m\u001b[38;5;241;43m.\u001b[39;49m\u001b[43mrun\u001b[49m\u001b[43m(\u001b[49m\u001b[43mmake_hal_request\u001b[49m\u001b[43m(\u001b[49m\u001b[43mquery\u001b[49m\u001b[43m,\u001b[49m\u001b[43m \u001b[49m\u001b[43myear\u001b[49m\u001b[43m,\u001b[49m\u001b[43m \u001b[49m\u001b[43mdoc_type\u001b[49m\u001b[43m)\u001b[49m\u001b[43m)\u001b[49m\n\u001b[1;32m     55\u001b[0m \u001b[38;5;66;03m# Vérification de la réponse de l'API\u001b[39;00m\n\u001b[1;32m     56\u001b[0m \u001b[38;5;28;01mif\u001b[39;00m data \u001b[38;5;129;01mis\u001b[39;00m \u001b[38;5;28;01mNone\u001b[39;00m:\n",
            "File \u001b[0;32m/lib/python311.zip/asyncio/runners.py:186\u001b[0m, in \u001b[0;36mrun\u001b[0;34m(main, debug)\u001b[0m\n\u001b[1;32m    161\u001b[0m \u001b[38;5;250m\u001b[39m\u001b[38;5;124;03m\"\"\"Execute the coroutine and return the result.\u001b[39;00m\n\u001b[1;32m    162\u001b[0m \n\u001b[1;32m    163\u001b[0m \u001b[38;5;124;03mThis function runs the passed coroutine, taking care of\u001b[39;00m\n\u001b[0;32m   (...)\u001b[0m\n\u001b[1;32m    182\u001b[0m \u001b[38;5;124;03m    asyncio.run(main())\u001b[39;00m\n\u001b[1;32m    183\u001b[0m \u001b[38;5;124;03m\"\"\"\u001b[39;00m\n\u001b[1;32m    184\u001b[0m \u001b[38;5;28;01mif\u001b[39;00m events\u001b[38;5;241m.\u001b[39m_get_running_loop() \u001b[38;5;129;01mis\u001b[39;00m \u001b[38;5;129;01mnot\u001b[39;00m \u001b[38;5;28;01mNone\u001b[39;00m:\n\u001b[1;32m    185\u001b[0m     \u001b[38;5;66;03m# fail fast with short traceback\u001b[39;00m\n\u001b[0;32m--> 186\u001b[0m     \u001b[38;5;28;01mraise\u001b[39;00m \u001b[38;5;167;01mRuntimeError\u001b[39;00m(\n\u001b[1;32m    187\u001b[0m         \u001b[38;5;124m\"\u001b[39m\u001b[38;5;124masyncio.run() cannot be called from a running event loop\u001b[39m\u001b[38;5;124m\"\u001b[39m)\n\u001b[1;32m    189\u001b[0m \u001b[38;5;28;01mwith\u001b[39;00m Runner(debug\u001b[38;5;241m=\u001b[39mdebug) \u001b[38;5;28;01mas\u001b[39;00m runner:\n\u001b[1;32m    190\u001b[0m     \u001b[38;5;28;01mreturn\u001b[39;00m runner\u001b[38;5;241m.\u001b[39mrun(main)\n",
            "\u001b[0;31mRuntimeError\u001b[0m: asyncio.run() cannot be called from a running event loop"
          ],
          "output_type": "error"
        }
      ],
      "id": "81f29609-1288-472d-a07e-3974cc8adb53"
    },
    {
      "cell_type": "markdown",
      "source": "Notre Jupyter Notebook est fini : en espérant qu'il vous a plu et qu'il était clair !\n\nSi vous avez des questions ou des retours, merci de m'écrire à mon adresse email universitaire : maxime.popineau@etu.univ-tours.fr.",
      "metadata": {},
      "id": "49ca4570-a1aa-4eb4-a690-b34b8b45958c"
    }
  ]
}
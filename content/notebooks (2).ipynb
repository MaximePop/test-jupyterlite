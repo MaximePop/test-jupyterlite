{
 "cells": [
  {
   "cell_type": "markdown",
   "id": "66103bf4-a9ef-4f5a-840c-5613ad441acb",
   "metadata": {},
   "source": [
    "# <span style=\"font-size:18pt;\"><mark style=\"background-color: white;\">Un panorama des pratiques informatiques dans les publications de recherche dans la base de données HAL.</mark></span>\n",
    "\n",
    "Un exemple des bonnes pratiques à mettre en place pour constituer un Notebook.\n",
    "\n",
    "Par POPINEAU Maxime (rapport réalisé en stage de Master 2 coencadré par Marie-Laure Massot, Emilien Schultz et Agnès Tricoche, dans le cadre de l'initiative Digit_Hum, d'avril-juillet 2023)."
   ]
  },
  {
   "cell_type": "markdown",
   "id": "0c83109e-44de-4c55-a2ab-0d0fd8c34b30",
   "metadata": {},
   "source": [
    "\n",
    "## <span style=\"font-size: 14pt\"> Information sur les données.</span>\n",
    "\n",
    "Les données utilisées dans ce notebook proviennent du site HAL (https://hal.science/). L’archive ouverte pluridisciplinaire HAL est destinée au dépôt et à la diffusion en libre accès des travaux scientifiques des chercheurs, émanant des établissements d'enseignement et de recherche français ou étrangers, des laboratoires publics ou privés. Son interface en ligne permet de partager librement les savoirs. Il est également possible d’interagir avec la base de données de HAL via une API*, et notamment de l’interroger pour y effectuer des recherches selon divers critères puis de récupérer les résultats dans différents formats de données structurées.\n",
    "\n",
    "Une API (Interface de programmation d'application) fournit des \"endpoints\" permettant d'interagir avec leur site web afin de récupérer des informations grâce à des recherches. Les APIs facilitent la communication entre plusieurs applications informatiques : cela sert à ce que les applications puissent échanger des informations entre-elles. Cela permet aux développeurs de créer des applications utilisant plusieurs APIS en même temps.\n",
    "\n",
    "L'utilisation d'une API nécessite également une chaîne de requête (\"query string\" en anglais), qui est une partie à ajouter à droite ,pour l'API de HAL, de l'URL de base pour inclure des paramètres et des valeurs.\n",
    "\n",
    "Un exemple de chaîne de requête est : https://api.archives-ouvertes.fr/search/?q=%22jupyter%20notebook%22. Cette URL fonctionne directement dans notre navigateur web et renvoie les résultats de notre recherche.\n",
    "\n",
    "https://api.archives-ouvertes.fr/search est la première partie qui permet d'accéder au serveur des archives ouvertes. La deuxième partie, ?q=%22jupyter%20notebook%22, permet de spécifier notre requête, qui est \"jupyter notebook\".\n",
    "\n",
    "Certains caractères, tels que l'espace ou les guillemets doubles, doivent être encodés correctement pour être transmis via le protocole HTTP. Le %22 correspond à l'encodage ASCII du caractère double guillemet et le %20 correspond à l'encodage de l'espace. Cela permet à l'ordinateur d'effectuer la requête sur \"jupyter notebook\" et non  \"jupyter\" et \"notebook\" séparément.\n",
    "\n",
    "L'utilisation de cette API permet d'interroger les données en utilisant des paramètres, par exemple pour connaître le nombre d'articles publiés dans HAL en 2014.\n",
    "\n",
    "Dans ce notebook, nous allons voir comment utiliser l'API HAL ainsi que les bibliothèques pandas et matplotlib. "
   ]
  },
  {
   "cell_type": "markdown",
   "id": "5c92ee9e-46ea-4475-88f1-ad518e26c9a0",
   "metadata": {},
   "source": [
    "Pour les personnes qui ne connaissent pas Python.\n",
    "\n",
    "Un ipywidget est disponible à la fin du Notebook pour permettre à des non-programmeurs d'interagir avec l'API de HAL !"
   ]
  },
  {
   "cell_type": "markdown",
   "id": "b59cb0e1-6e4d-4cbb-8fed-826fa958b7a9",
   "metadata": {},
   "source": [
    "## <span style=\"font-size: 14pt\"> Objectifs de ce Jupyter Notebook.</span>\n",
    "\n",
    "Ce Jupyter Notebook vise à  :\n",
    "\n",
    "1. Faire un panorama des pratiques numériques des chercheurs.\n",
    "2. Fournir un exemple de Jupyter Notebook reproductible et de qualité. \n",
    "3. Enseigner des compétences aux utilisateurs débutants ou expérimentés avec Python."
   ]
  },
  {
   "cell_type": "markdown",
   "id": "3f28feab-54d8-4417-8ebd-381b0488f7ca",
   "metadata": {
    "jp-MarkdownHeadingCollapsed": true,
    "tags": []
   },
   "source": [
    "## <span style=\"font-size: 14pt\"> Compétences requises.</span>\n",
    "\n",
    "Ce Jupyter Notebook est à destination d'un public débutant. Il est préférable de connaître le langage informatique Python pour suivre le Notebook, mais cela n'est pas obligatoire.\n",
    "\n",
    "Le document permet d'acquérir des compétences variées comme :\n",
    "\n",
    "1. Savoir utiliser les différentes librairies comme pandas et matplotlib.\n",
    "2. Utiliser les fonctions en Python pour éviter la duplication du code.\n",
    "3. Savoir faire une requête via une API."
   ]
  },
  {
   "cell_type": "markdown",
   "id": "1b6b7886-1071-4c7f-8b0d-f469bab9030e",
   "metadata": {
    "tags": []
   },
   "source": [
    "## Section 0 : Importation des librairies.\n",
    "\n",
    "Dans cette section, nous allons importer les librairies nécessaires à notre analyse.\n",
    "\n",
    "Le rôle des libraries\n",
    "\n",
    "La librairie requests et json permetttent de faire les requêtes via l'API de HAL.\n",
    "\n",
    "Pandas est utilisé pour faire de l'analyse de données. La librairie fournit des fonctions pour créer, manipuler et analyser des DataFrames (les tableaux).\n",
    "\n",
    "Matplotlib permet de faire des graphiques et de visualiser les données."
   ]
  },
  {
   "cell_type": "code",
   "execution_count": 1,
   "id": "7b69604a-e577-4db8-a924-3ee5193199de",
   "metadata": {},
   "outputs": [
    {
     "ename": "ModuleNotFoundError",
     "evalue": "No module named 'piplite'",
     "output_type": "error",
     "traceback": [
      "\u001b[1;31m---------------------------------------------------------------------------\u001b[0m",
      "\u001b[1;31mModuleNotFoundError\u001b[0m                       Traceback (most recent call last)",
      "Cell \u001b[1;32mIn[1], line 1\u001b[0m\n\u001b[1;32m----> 1\u001b[0m \u001b[38;5;28;01mimport\u001b[39;00m \u001b[38;5;21;01mpiplite\u001b[39;00m\n\u001b[0;32m      2\u001b[0m \u001b[38;5;28;01mawait\u001b[39;00m piplite\u001b[38;5;241m.\u001b[39minstall([\u001b[38;5;124m\"\u001b[39m\u001b[38;5;124mrequests\u001b[39m\u001b[38;5;124m\"\u001b[39m])\n",
      "\u001b[1;31mModuleNotFoundError\u001b[0m: No module named 'piplite'"
     ]
    }
   ],
   "source": [
    "import piplite\n",
    "await piplite.install([\"requests\"])"
   ]
  },
  {
   "cell_type": "code",
   "execution_count": null,
   "id": "697b9fbb-0dfb-4e50-bfae-858c3d49a22f",
   "metadata": {},
   "outputs": [],
   "source": [
    "import requests, json\n",
    "import pandas as pd\n",
    "import matplotlib.pyplot as plt"
   ]
  },
  {
   "cell_type": "markdown",
   "id": "6bd40303-6c83-42e5-854d-8f0be99aa680",
   "metadata": {},
   "source": [
    "## Section 1 : Analyse du nombre de publications citant Python et les Jupyter Notebooks."
   ]
  },
  {
   "cell_type": "markdown",
   "id": "237d88ad-4269-4f76-b188-34fb528ca9aa",
   "metadata": {},
   "source": [
    "Nous pouvons faire une analyse statistique du nombre de publications dans la base de données HAL mentionnant Python et les Jupyter Notebooks."
   ]
  },
  {
   "cell_type": "markdown",
   "id": "6da9edf4-ba44-4631-b793-05c0cd73fca1",
   "metadata": {},
   "source": [
    "## <span style=\"font-size: 12pt\">1.0 : Utilisation d'une fonction qui retourne le nombre d'articles par année en fonction d'une recherche.</span>\n",
    "\n",
    "Les fonctions permettent de rendre le code plus lisible et d'éviter de le dupliquer. Elles font parties des bonnes pratiques à adopter dans un notebook."
   ]
  },
  {
   "cell_type": "markdown",
   "id": "9885ad96-3cce-4a2d-abd1-0d48f840f69d",
   "metadata": {},
   "source": [
    "Pour faire une requête via l'API, il est nécessaire de lire la documentation du site HAL disponible à cette adresse : https://api.archives-ouvertes.fr/docs/search\n"
   ]
  },
  {
   "cell_type": "code",
   "execution_count": null,
   "id": "eddbb371-ac45-4591-9966-7f691ded5327",
   "metadata": {},
   "outputs": [],
   "source": [
    "def get_publication_counts(query):\n",
    "    # Effectue une requête pour obtenir le nombre total de publications\n",
    "    req = requests.get(f\"https://api.archives-ouvertes.fr/search/?q=text_fulltext:({query})&rows=0&facet=true&facet.field=publicationDateY_i\")\n",
    "    req_json = req.json()\n",
    "    nb = req_json[\"response\"][\"numFound\"]\n",
    "    print(f\"Le nombre total de résultats est de : {nb}\\n\")\n",
    "\n",
    "    # Effectue une requête pour obtenir le nombre de publications par année\n",
    "    year_counts = []\n",
    "    for year in range(1995, 2023):\n",
    "        req = requests.get(f\"https://api.archives-ouvertes.fr/search/?q=text_fulltext:({query}) AND publicationDateY_i:{year}&rows=0\")\n",
    "        req_json = req.json()\n",
    "        year_count = req_json[\"response\"][\"numFound\"]\n",
    "        year_counts.append((year, year_count))\n",
    "\n",
    "    # Transforme la liste de tuples en un DataFrame pandas et le renvoie\n",
    "    df = pd.DataFrame(year_counts, columns=[\"Année\", \"Nombre de publications\"])\n",
    "    return df"
   ]
  },
  {
   "cell_type": "markdown",
   "id": "8197672c-eb6f-4f57-8a09-6db0ff482f33",
   "metadata": {},
   "source": [
    "Nous allons ensuite appelé cette fonction et imprimer le Dataframe créé grâce à la librairie Pandas."
   ]
  },
  {
   "cell_type": "code",
   "execution_count": null,
   "id": "4ed5b820-2c56-4a3c-bf4b-49ab497d69da",
   "metadata": {},
   "outputs": [],
   "source": [
    "df = get_publication_counts(\"python\")\n",
    "print(df)"
   ]
  },
  {
   "cell_type": "markdown",
   "id": "9e18c57d-79c4-4aac-95b6-17e36ce5051c",
   "metadata": {},
   "source": [
    "Le dataframe montre une augmentation importante des articles concernant Python dans la base de donnée HAL. Le nombre d'articles sur Python passe de 10 en 2001 à 444 en 2011 puis 5143 en 2021 soit une multiplication par 500 en l'espace d'une vingtaine d'années. Il est important de noter que l'année 2022 est la première année de baisse du nombre d'articles concernant Python par rapport à l'année précédente depuis 1996."
   ]
  },
  {
   "cell_type": "markdown",
   "id": "2bf778ba-4b90-4b42-b204-422eee59eb2b",
   "metadata": {},
   "source": [
    "## <span style=\"font-size: 12pt\">1.1 : Faire un graphique avec la librairie Matplotlib pour voir le nombre de publications sur Python en fonction des années.</span>"
   ]
  },
  {
   "cell_type": "markdown",
   "id": "e6387388-95ac-4e7a-ae85-e4cbae57e35d",
   "metadata": {},
   "source": [
    "Nous allons passer maintenant à la représentation graphique avec la librairie Matplotlib.\n"
   ]
  },
  {
   "cell_type": "code",
   "execution_count": null,
   "id": "bc27ef87-b97a-4c5b-b067-7ea1f39a82c6",
   "metadata": {},
   "outputs": [],
   "source": [
    "# Effectue une requête pour obtenir le nombre d'articles avec le mot-clé \"Python\"\n",
    "query = \"python\"\n",
    "req = requests.get(f\"https://api.archives-ouvertes.fr/search/?q=text_fulltext:({query})&rows=0&facet=true&facet.field=producedDateY_i\")\n",
    "req_json = req.json()\n",
    "nb = req_json[\"response\"][\"numFound\"]\n",
    "print(f\"Le nombre d'articles contenant le mot clé '{query}' est de : {nb}\\n\")\n",
    "\n",
    "# Effectue une requête pour obtenir le nombre d'articles avec le mot-clé \"Python\" par année\n",
    "year_counts = req_json[\"facet_counts\"][\"facet_fields\"][\"producedDateY_i\"]\n",
    "year_counts = [year_counts[i:i+2] for i in range(0, len(year_counts), 2) if int(year_counts[i]) >= 1995]\n",
    "years = [int(year) for year, count in year_counts]\n",
    "counts = [count for year, count in year_counts]\n",
    "\n",
    "# Création du graphique\n",
    "plt.bar(years, counts)\n",
    "plt.title(\"Nombre de résultats concernant Python dans la base de HAL par année (après 1995)\")\n",
    "plt.xlabel(\"Year\")\n",
    "plt.ylabel(\"Number of publications\")\n",
    "plt.show()"
   ]
  },
  {
   "cell_type": "markdown",
   "id": "6210bcf5-f5dc-40f5-83ef-9f4434fcc781",
   "metadata": {},
   "source": [
    "Matplotlib nous permet de visualiser l'augmentation du nombre des articles sur Python ces 25 dernières années dans HAL. Nous constatons que l'année 2023 marquera peut être une baisse du nombre d'articles publiés sur Python car cinq mois se sont déjà écoulés et il y a à peine 1000 articles dans la base de données.\n"
   ]
  },
  {
   "cell_type": "markdown",
   "id": "e49dc79b-6f80-4be6-9022-72d3d7bb5995",
   "metadata": {},
   "source": [
    "### <span style=\"font-size: 12pt\"> 1.2 : Obtenir les résultats pour les Jupyter Notebooks.</span>"
   ]
  },
  {
   "cell_type": "markdown",
   "id": "d220aec9-0e1a-4c8c-82aa-93c0fd9cd505",
   "metadata": {},
   "source": [
    "Nous appelons la même fonction que dans le 1.0"
   ]
  },
  {
   "cell_type": "code",
   "execution_count": null,
   "id": "ac172faa-5f98-45f3-a6f5-748ee89a2b96",
   "metadata": {},
   "outputs": [],
   "source": [
    "df = get_publication_counts(\"jupyter AND (notebook OR notebooks)\")\n",
    "print(df)"
   ]
  },
  {
   "cell_type": "markdown",
   "id": "0a32e892-2b5a-4123-a0f6-d32f4479a650",
   "metadata": {},
   "source": [
    "Le Dataframe montre une augmentation importante des articles mentionnant les Jupyter Notebooks (avec et sans \"s\") dans la base de donnée HAL. Ils passent en effet de 12 en 2016 à 70 (multiplé par 5) en 2018 puis à 223 en 2022. Ainsi, le nombre de publications déposées dans HAL citant les Jupyter Notebooks a été multiplé à peu près par 19 entre 2016 et 2022."
   ]
  },
  {
   "cell_type": "markdown",
   "id": "7d5b20d5-d460-488b-b53d-1aed7e8606d7",
   "metadata": {},
   "source": [
    "Il est néanmoinq important de comparer cette hausse d'intérêt pour Python et pour les Jupyter Notebooks à la hausse du nombre d'articles dans HAL. En effet, cette hausse du nombre d'articles pourrait ne pas être la conséquence d'une hausse d'intérêt mais d'une simple hausse dans le nombre d'articles déposés dans l'archive ouverte."
   ]
  },
  {
   "cell_type": "markdown",
   "id": "283dabcc-f7ac-4088-8aed-fbda4124be20",
   "metadata": {},
   "source": [
    "## <span style=\"font-size: 12pt\"> 1.3 : Calculer le pourcentage d'articles mentionnant Python et les Jupyter Notebooks par rapport au nombre total d'articles publiés dans HAL au cours du temps.</span>"
   ]
  },
  {
   "cell_type": "markdown",
   "id": "0f6e7a0d-29ec-4a84-910e-69f72572e8f2",
   "metadata": {},
   "source": [
    "Nous utilisons l'API de HAL et la librairie pandas pour créer un tableau."
   ]
  },
  {
   "cell_type": "code",
   "execution_count": null,
   "id": "1e06648a-9d28-4c94-870f-60c189d0aefc",
   "metadata": {},
   "outputs": [],
   "source": [
    "# Récupère le nombre total d'articles pour chaque année\n",
    "total_counts = []\n",
    "for year in range(1995, 2023):\n",
    "    req = requests.get(f\"https://api.archives-ouvertes.fr/search/?q=*&fq=producedDateY_i:{year}&rows=0\")\n",
    "    req_json = req.json()\n",
    "    year_count = req_json[\"response\"][\"numFound\"]\n",
    "    total_counts.append((year, year_count))\n",
    "total_df = pd.DataFrame(total_counts, columns=[\"year\", \"total_articles\"])\n",
    "\n",
    "# Récupère le nombre d'articles concernant Python pour chaque année\n",
    "python_counts = []\n",
    "for year in range(1995, 2023):\n",
    "    req = requests.get(f\"https://api.archives-ouvertes.fr/search/?q=text_fulltext:(Python)&fq=producedDateY_i:{year}&rows=0\")\n",
    "    req_json = req.json()\n",
    "    year_count = req_json.get(\"response\", {}).get(\"numFound\", 0)\n",
    "    python_counts.append((year, year_count))\n",
    "python_df = pd.DataFrame(python_counts, columns=[\"year\", \"python_articles\"])\n",
    "\n",
    "# le nombre d'articles concernant les Jupyter Notebooks pour chaque année\n",
    "jupyter_counts = []\n",
    "for year in range(1995, 2023):\n",
    "    req = requests.get(f\"https://api.archives-ouvertes.fr/search/?q=text_fulltext:(jupyter AND (notebook OR notebooks))&fq=producedDateY_i:{year}&rows=0\")\n",
    "    req_json = req.json()\n",
    "    year_count = req_json.get(\"response\", {}).get(\"numFound\", 0)\n",
    "    jupyter_counts.append((year, year_count))\n",
    "jupyter_df = pd.DataFrame(jupyter_counts, columns=[\"year\", \"jupyter_articles\"])\n",
    "\n",
    "# Fusionne les trois dataframes\n",
    "merged_df = pd.merge(total_df, python_df, on=\"year\")\n",
    "merged_df = pd.merge(merged_df, jupyter_df, on=\"year\")\n",
    "\n",
    "# Calcul le pourcentage des articles concernant Python et les JupyterNotebooks pour chaque année.\n",
    "merged_df[\"percent_python\"] = merged_df[\"python_articles\"] / merged_df[\"total_articles\"] * 100\n",
    "merged_df[\"percent_jupyter\"] = merged_df[\"jupyter_articles\"] / merged_df[\"total_articles\"] * 100\n",
    "\n",
    "# Visualise le tableau\n",
    "print(merged_df)"
   ]
  },
  {
   "cell_type": "markdown",
   "id": "5d096e3a-47f8-48c7-b957-d257a1d0e7db",
   "metadata": {},
   "source": [
    "Le tableau montre que le pourcentage des documents mentionnant Python et les Jupyter Notebooks augmente au fil des années dans le total de documents publiés dans HAL. L'intérêt pour ce langage de programmation et ce type de carnets interactifs semble donc augmenter sensiblement dans le cadre de la recherche.\n",
    "\n",
    "En effet, si en 2002, les documents relatifs à Python ne représentaient que 0,03% du total des documents présents dans HAL, ce chiffre est passé à 0,37% en 2012 et a atteint 3,31% en 2022. Notons aussi, que le projet Jupyter a été lancé en 2014 et que les premiers résultats apparaissent en 2015 avec un document traitant des Jupyter Notebooks. En 2019, le pourcentage des documents relatifs aux Jupyter Notebooks représentaient 0,05% du nombre total de documents présents dans HAL. Ce chiffre est de 0,14% en 2022. Bien que l'intérêt pour Python et les Jupyter Notebooks soit en hausse, le nombre d'articles les concernant reste relativement faible par rapport au nombre d'articles total dans la base de données de HAL."
   ]
  },
  {
   "cell_type": "markdown",
   "id": "beebf154-6f3a-4bbd-935c-f2ae0647579f",
   "metadata": {},
   "source": [
    "## Section 2 : Travail d'analyse sur la recherche \"Python\" et \"Jupyter Notebook\".\n",
    "\n",
    "Cette section permet d'apprendre à faire une requête multicritères dans l'API de HAL pour obtenir un type particulier de documents (articles, communicatoin ou autres) au sein d'une recherche précise (dans notre exemple, la recherche des mots clés \"Python\" ou \"Jupyter Notebook(s)).\n",
    "\n",
    "Nous verrons aussi comment récupérer dans l'API de HAL le domaine de recherche pour identifier les disciplines qui intègrent le plus les Jupyter Notebooks dans leur pratique de recherche ou d'enseignement. Notre hypothèse étant bien sûr que ces outils sont plus présents en informatique et dans les disciplines scientifiques qu'en sciences humaines et sociales. Cela nous permettra d'affiner l'analyse des résulats obtenus dans les sections précédentes."
   ]
  },
  {
   "cell_type": "markdown",
   "id": "c09fc3dc-6e3c-438f-96df-01890c7de2e1",
   "metadata": {
    "tags": []
   },
   "source": [
    "## <span style=\"font-size: 12pt\"> 2.0 : Obtenir le type de document en fonction d'une recherche.</span>"
   ]
  },
  {
   "cell_type": "code",
   "execution_count": null,
   "id": "ab0fc7b1-3a79-46ba-9877-7dcacd84ce58",
   "metadata": {},
   "outputs": [],
   "source": [
    "def get_doc_types(query):\n",
    "    req = requests.get(f\"https://api.archives-ouvertes.fr/search/?q={query}&rows=0&facet=true&facet.field=docType_s\")\n",
    "    req_json = req.json()\n",
    "    doc_types = req_json[\"facet_counts\"][\"facet_fields\"][\"docType_s\"]\n",
    "    doc_types = [doc_types[i:i+2] for i in range(0, len(doc_types), 2)]\n",
    "    total_docs = req_json[\"response\"][\"numFound\"]\n",
    "    doc_types_dict = {doc_type: count/total_docs*100 for doc_type, count in doc_types}\n",
    "    return doc_types_dict"
   ]
  },
  {
   "cell_type": "markdown",
   "id": "f23700fb-27e7-46ec-8581-9352cbb81e0d",
   "metadata": {},
   "source": [
    "Nous rédigeons une fonction que nous invoquerons dans la suite de notre code comme dans la Section 1."
   ]
  },
  {
   "cell_type": "code",
   "execution_count": null,
   "id": "1df107f7-a086-481d-a0fe-2638b7768e33",
   "metadata": {},
   "outputs": [],
   "source": [
    "doc_types = get_doc_types(\"text_fulltext:(python)\")\n",
    "print(doc_types)"
   ]
  },
  {
   "cell_type": "markdown",
   "id": "d6b3b3fc-17ae-42eb-85af-fc60deb199fb",
   "metadata": {},
   "source": [
    "Nous contastons que parmi les documents liés à Python dans la base de données HAL, les articles scientifiques représentent 47%, suivis des communications à 25%, et des thèses à 11%. En revanche, les cours ne représentent qu'une faible proportion de 0,32%."
   ]
  },
  {
   "cell_type": "code",
   "execution_count": null,
   "id": "d3c690ca-86e7-49aa-bc43-48d05c1fcb13",
   "metadata": {},
   "outputs": [],
   "source": [
    "doc_types = get_doc_types(\"jupyter AND (notebook OR notebooks)\")\n",
    "print(doc_types)"
   ]
  },
  {
   "cell_type": "markdown",
   "id": "52a7d308-5b4c-433a-bbfb-ba7e61dfadd6",
   "metadata": {},
   "source": [
    "Le constat est le même pour les Jupyter Notebooks : les documents sont à 39% des articles scientifiques, les communications 32% et des blogs à 6,52%. Les cours représentent seulement 6%."
   ]
  },
  {
   "cell_type": "markdown",
   "id": "c9726618-d48c-42a4-bd4c-358b4bb99c6b",
   "metadata": {},
   "source": [
    "Nous pouvons nous demander aussi dans quelle discipline les Jupyter Notebooks sont utilisés. Notre hypothèse est que ce format est plus utilisé en informatique et dans les disciplines scientifiques comme en physique par exemple."
   ]
  },
  {
   "cell_type": "markdown",
   "id": "7c935c5e-d733-48c3-87a5-d1b57e05f4c4",
   "metadata": {
    "tags": []
   },
   "source": [
    "## <span style=\"font-size: 12pt\"> 2.1 : De quel domaine de recherche relèvent les Jupyter Notebooks? </span>"
   ]
  },
  {
   "cell_type": "markdown",
   "id": "73db9e10-517e-4bc7-8048-b2164ec7b4b1",
   "metadata": {},
   "source": [
    "Nous allons à présent nous intéresser aux disciplines qui mentionnent les Jupyter Notebooks."
   ]
  },
  {
   "cell_type": "code",
   "execution_count": null,
   "id": "1f7a85a8-0e76-4f6b-8914-de66254af588",
   "metadata": {},
   "outputs": [],
   "source": [
    "# Faire la requête pour obtenir le nombre de documents contenant \"jupyter\" et \"notebook(s)\"\n",
    "req = requests.get(\"https://api.archives-ouvertes.fr/search/?q=text_fulltext:(jupyter AND (notebook OR notebooks))&rows=0&facet=true&facet.field=domain_s\")\n",
    "\n",
    "# Obtenir les données de la requête au format JSON\n",
    "req_json = req.json()\n",
    "\n",
    "# Extraire le nombre de publications par domaine\n",
    "domain_counts = req_json[\"facet_counts\"][\"facet_fields\"][\"domain_s\"]\n",
    "domain_counts = [(domain_counts[i], domain_counts[i+1]) for i in range(0, len(domain_counts), 2)]\n",
    "\n",
    "# Séparer les domaines multiples et leur nombre de documents en entrées individuelles\n",
    "domain_counts_split = []\n",
    "for domain_count in domain_counts:\n",
    "    domains = domain_count[0].split(';')\n",
    "    for domain in domains:\n",
    "        domain_counts_split.append((domain.strip(), domain_count[1]))  # Garder le domaine complet\n",
    "\n",
    "# Calculer le nombre total de documents\n",
    "total = sum([count for _, count in domain_counts_split])\n",
    "\n",
    "# Calculer le pourcentage de documents par domaine\n",
    "domain_percents = [(domain[0], domain[1]/total*100) for domain in domain_counts_split]\n",
    "\n",
    "# Filtrer les domaines ayant un seul mot et un pourcentage supérieur à 0,5% et supprimer les domaines spécifiques\n",
    "domain_percents_filtered = [(domain, percent) for domain, percent in domain_percents if percent > 0.5 and len(domain.split()) == 1\n",
    "                            and not any(domain_specific in domain for domain_specific in [\"1.info.info-ai\", \"1.info.info-bi\", \"1.phys.astr\", \"info.info-lg\", \"sdv.neu\", \"sdu.ocean\", \"math.math-st\"])]\n",
    "\n",
    "# Supprimer les domaines qui commencent par \"1\"\n",
    "domain_percents_filtered = [(domain, percent) for domain, percent in domain_percents_filtered if not domain.startswith(\"1\")]\n",
    "\n",
    "# Créer un dataframe à partir des pourcentages filtrés et trier par ordre décroissant\n",
    "df = pd.DataFrame(domain_percents_filtered, columns=[\"Domaine\", \"Pourcentage\"])\n",
    "df = df.sort_values(by=[\"Pourcentage\"], ascending=False)\n",
    "\n",
    "# Afficher le dataframe\n",
    "print(df)"
   ]
  },
  {
   "cell_type": "markdown",
   "id": "254e8d2a-a128-432a-8cba-b44b8be9b508",
   "metadata": {},
   "source": [
    "Les résultats obtenus confirment notre hypothèse. Les Jupyter Notebooks commencent à être utilisés dans les disciplines SHS, mais très peu : 3,8%. L'évolution de l'utilisation des Notebooks est plus marquée en informatique : (17%) en Sciences de la Vie (7%) ou bien en physique (4,4%).\n",
    "\n",
    "En effet, il y a encore peu de Notebooks en SHS que cela soit en Histoire ou en Géographie (sans parler de l'archéologie, de la la littérature ou de la philosophie). Une explication pourrait être que la pratique des Notebooks en SHS est nouvelle et aussi que les sciences sociales ont moins besoin d'utiliser des langages de programmation dans leur pratique quotidienne. \n",
    "\n",
    "Enfin, le manque de ressources pour se former et cas d'études sur l'utilisation des Jupyter Notebooks dans le cadre des SHS semblent un frein à l'appropriation de cet outil par les praticiens SHS."
   ]
  },
  {
   "cell_type": "markdown",
   "id": "eacdf6fb-0258-4d0a-8bcd-0a39942011d0",
   "metadata": {},
   "source": [
    "## Section 3 : Travail général sur les pratiques numériques des chercheurs.\n",
    "\n",
    "Nous allons voir dans cette partie quels sont les logiciels et les différents langages informatiques (autre que Python) que les chercheurs utilisent le plus dans la base de HAL."
   ]
  },
  {
   "cell_type": "markdown",
   "id": "8f3018ec-52c7-4aeb-b535-a6c67764640f",
   "metadata": {},
   "source": [
    "## <span style=\"font-size: 12pt\"> 3.0 : Les autres pratiques numériques des chercheurs.</span>"
   ]
  },
  {
   "cell_type": "code",
   "execution_count": null,
   "id": "7e4842cc-1c8d-4bd5-ab7b-dcf3525ef902",
   "metadata": {},
   "outputs": [],
   "source": [
    "# Liste des termes de recherche\n",
    "terms = [\"langage de programmation Julia\", \"Rstudio\", \"Python\", \"pascal langage informatique\", \"Matlab\", \"Javascript\", \"Spss\", \"Stata\", \"Fortran\", \"Javascript\", \"Bash\", \"Rust\", \"SAS\", \"Excel\", \"Libreoffice\", \"Perl\", \"HTML\"]\n",
    "\n",
    "# Dictionnaire pour stocker les résultats\n",
    "results = {}\n",
    "\n",
    "# Pour chaque terme de recherche, faire une requête et extraire le nombre total de résultats\n",
    "for term in terms:\n",
    "    req = requests.get(f\"https://api.archives-ouvertes.fr/search/?q={term}&rows=0\")\n",
    "    req_json = req.json()\n",
    "    total = req_json[\"response\"][\"numFound\"]\n",
    "    results[term] = total\n",
    "\n",
    "# Afficher les résultats sous forme de tableau\n",
    "import pandas as pd\n",
    "\n",
    "df = pd.DataFrame.from_dict(results, orient=\"index\", columns=[\"Nombre de documents\"])\n",
    "df = df.sort_values(by=[\"Nombre de documents\"], ascending=False)\n",
    "\n",
    "print(df)"
   ]
  },
  {
   "cell_type": "markdown",
   "id": "23725088-0084-4a26-bcae-29f0b8f96ea1",
   "metadata": {},
   "source": [
    "Il est intéressant de voir les différentes pratiques numériques des chercheurs. Python a pris beaucoup d'importance mais il est important de voir que les chercheurs utilisent aussi d'autres langages informatiques comme HTML, Perl, Pascal ou bien Javascript. Les chercheurs utilisent aussi des logiciels comme Rstudio, LibreOffice mais surtout Excel."
   ]
  },
  {
   "cell_type": "markdown",
   "id": "be534a0f-e253-46ac-9145-ad6ed1879458",
   "metadata": {},
   "source": [
    "## <span style=\"font-size: 12pt\"> 3.1 : Les principaux types de documents.</span>"
   ]
  },
  {
   "cell_type": "markdown",
   "id": "2afd5e72-e4d5-4664-a6eb-c8dfdf6827d2",
   "metadata": {},
   "source": [
    "Il est important de voir les autres pratiques numériques des chercheurs anglais ou français et de comparer le type de document produit dans la plateforme HAL."
   ]
  },
  {
   "cell_type": "code",
   "execution_count": null,
   "id": "fb2d8d8c-57be-459a-bed6-62e3df028bb8",
   "metadata": {},
   "outputs": [],
   "source": [
    "# Liste des termes de recherche\n",
    "terms = [\"langage de programmation Julia\", \"Rstudio\", \"Python\", \"pascal langage informatique\", \"Matlab\", \"Javascript\", \"Spss\", \"Stata\", \"Fortran\", \"Javascript\", \"Bash\", \"Rust\", \"SAS\", \"Excel\", \"Libreoffice\", \"Perl\", \"HTML\"]\n",
    "\n",
    "# Dictionnaire pour stocker les résultats\n",
    "results = {}\n",
    "\n",
    "# Pour chaque terme de recherche, faire une requête et extraire les pourcentages de chaque type de document\n",
    "for term in terms:\n",
    "    doc_types_dict = get_doc_types(term)\n",
    "    results[term] = doc_types_dict\n",
    "\n",
    "# Afficher les résultats sous forme de tableau\n",
    "df_list = []\n",
    "for term, doc_types_dict in results.items():\n",
    "    df = pd.DataFrame.from_dict(doc_types_dict, orient=\"index\", columns=[term])\n",
    "    df = df.loc[df[term] > 0].sort_values(by=[term], ascending=False).head(3)\n",
    "    df.dropna(axis=1, inplace=True)\n",
    "    df_list.append(df)\n",
    "\n",
    "df_final = pd.concat(df_list, axis=1)\n",
    "df_final.fillna(\"\", inplace=True)\n",
    "df_final.dropna(axis=0, how='all', inplace=True)\n",
    "print(df_final)"
   ]
  },
  {
   "cell_type": "markdown",
   "id": "d2b951f3-e580-494b-a662-0f7d245c3260",
   "metadata": {},
   "source": [
    "D'après les résultats obtenus, il apparaît que les types de documents les plus fréquemment associés à nos termes de recherche sont très majoritairement soit des articles scientifiques ou des communications ce qui est le même résultat que pour \"Python\" et les \"Jupyter Notebooks\" obtenu dans la section 2.0"
   ]
  },
  {
   "cell_type": "markdown",
   "id": "fc2833aa-b947-4e16-ac77-8eea51e28d88",
   "metadata": {},
   "source": [
    "Nous avons vu comment mettre des paramètres avec le \"query string\" mais il y a une autre manière de faire.\n",
    "\n",
    "Nous pouvons construire un dictionnaire et ensuite passer le dictionnaire en tant qu'argument à la fonction requests.get. Lorsque la requête est effectuée, la bibliothèque requests construit automatiquement l'URL avec les paramètres spécifiés dans le dictionnaire.\n",
    "\n",
    "Cela permet de spécifier les paramètres de manière plus structurée et flexible, en utilisant une syntaxe de dictionnaire."
   ]
  },
  {
   "cell_type": "code",
   "execution_count": null,
   "id": "6289c56f-7fd4-48d5-829a-0742685a75d9",
   "metadata": {},
   "outputs": [],
   "source": [
    "# Effectuer une requête pour obtenir les types de document pour tous les documents dans HAL\n",
    "params = {\n",
    "    \"q\": \"*:*\",\n",
    "    \"rows\": 0,\n",
    "    \"fl\": \"docType_s\",\n",
    "    \"facet\": \"true\",\n",
    "    \"facet.field\": \"docType_s\"\n",
    "}\n",
    "req = requests.get(\"https://api.archives-ouvertes.fr/search/\", params=params)\n",
    "req_json = req.json()\n",
    "\n",
    "# Extraire les types de document et leurs nombres de la réponse JSON\n",
    "doc_types = req_json[\"facet_counts\"][\"facet_fields\"][\"docType_s\"]\n",
    "doc_types_dict = {doc_type: count for doc_type, count in zip(doc_types[::2], doc_types[1::2])}\n",
    "\n",
    "# Créer un DataFrame à partir des types de document\n",
    "df = pd.DataFrame.from_dict(doc_types_dict, orient=\"index\", columns=[\"Nombre de documents\"])\n",
    "df = df.sort_values(by=[\"Nombre de documents\"], ascending=False)\n",
    "\n",
    "# Calculer les pourcentages de chaque type de document par rapport au total\n",
    "total_documents = df[\"Nombre de documents\"].sum()\n",
    "df[\"Pourcentage\"] = df[\"Nombre de documents\"] / total_documents * 100\n",
    "\n",
    "# Afficher le DataFrame\n",
    "print(df)"
   ]
  },
  {
   "cell_type": "markdown",
   "id": "ee5d1acc-74a5-4076-b67d-50406e20aefc",
   "metadata": {},
   "source": [
    "En analysant le nombre total de documents dans la base de HAL, on constate que les deux types de documents les plus fréquents sont des articles scientifiques et des communications. \n",
    "Nous pouvons comparer cela aux résultats obtenus pour \"Python\" et les \"Jupyter Notebooks\" dans la section 2.\n",
    "\n",
    "Pour Python, les articles (47%) et les communications (25%) représentent 72% des documents présents. \n",
    "Pour les Jupyter Notebooks, les articles (39%) et les communications (32%) représentent 71% des documents présents.\n",
    "\n",
    "Les résultats sont donc similaires pour l'ensemble des documents, les articles scientifiques (47%) et les communications (23%) représentent aussi la majorité des documents dans la base HAL avec environ 70% des documents présents."
   ]
  },
  {
   "cell_type": "markdown",
   "id": "ee93dcb8-47e7-4959-85e3-67e636d1ba47",
   "metadata": {},
   "source": [
    "Pour finir notre Notebook interactif, voici l'ipywidget comme promis en introduction pour les utilisateurs non programmeurs mais intéréssés pour interagir avec le document !"
   ]
  },
  {
   "cell_type": "markdown",
   "id": "8ae0876a-4a12-4fd1-9247-cd17049df3f1",
   "metadata": {},
   "source": [
    "Les IpyWidgets permettent à des utilisateurs qui ne savent pas coder d'utiliser l'API des HAL avec des paramètres comme le type de documents ou les années."
   ]
  },
  {
   "cell_type": "code",
   "execution_count": null,
   "id": "892a7d22-a42b-4c31-a9ca-6ff1221b0263",
   "metadata": {},
   "outputs": [],
   "source": [
    "import requests\n",
    "import ipywidgets as widgets\n",
    "import matplotlib.pyplot as plt\n",
    "import pandas as pd\n",
    "from IPython.display import display\n",
    "import json\n",
    "\n",
    "# Fonction pour effectuer la requête sur l'API HAL\n",
    "def make_hal_request(query, year, doc_type):\n",
    "    url = f\"https://api.archives-ouvertes.fr/search/?q={query}&fq=docType_s:{doc_type}&fq=producedDateY_i:{year}&wt=json\"\n",
    "    response = requests.get(url)\n",
    "    try:\n",
    "        data = response.json()\n",
    "        return data\n",
    "    except json.JSONDecodeError:\n",
    "        print('Erreur lors de l\\'analyse de la réponse JSON de l\\'API.')\n",
    "        return None\n",
    "\n",
    "# Options de requête\n",
    "doc_types = ['ART', 'COMM', 'OUV', 'THESE']\n",
    "\n",
    "# Création des widgets\n",
    "query_widget = widgets.Textarea(value='', placeholder='Saisissez votre requête ici', description='Requête:')\n",
    "year_widget = widgets.Dropdown(options=['Toutes les années'] + list(range(2010, 2023)), description='Année:')\n",
    "doc_type_widget = widgets.Dropdown(options=['Tous les types'] + doc_types, description='Type de document:')\n",
    "display_type_widget = widgets.RadioButtons(options=['Tableau', 'Graphique'], description='Affichage:')\n",
    "button = widgets.Button(description='Effectuer la requête')\n",
    "\n",
    "# Fonction de rappel du bouton\n",
    "def on_button_click(b):\n",
    "    query = query_widget.value.strip()\n",
    "    year = year_widget.value\n",
    "    doc_type = doc_type_widget.value\n",
    "    \n",
    "    # Vérification de la validité de la requête\n",
    "    if not query:\n",
    "        print('Veuillez saisir une requête valide.')\n",
    "        return\n",
    "    \n",
    "    # Si l'option \"Toutes les années\" est sélectionnée, on utilise un caractère générique '*' pour la requête\n",
    "    if year == 'Toutes les années':\n",
    "        year = '*'\n",
    "    \n",
    "    # Si l'option \"Tous les types\" est sélectionnée, on utilise un caractère générique '*' pour le type de document\n",
    "    if doc_type == 'Tous les types':\n",
    "        doc_type = '*'\n",
    "    \n",
    "    # Appel de la fonction pour effectuer la requête\n",
    "    data = make_hal_request(query, year, doc_type)\n",
    "    \n",
    "    # Vérification de la réponse de l'API\n",
    "    if data is None:\n",
    "        return\n",
    "    \n",
    "    # Traitement des résultats\n",
    "    num_results = data['response']['numFound']\n",
    "    print(f\"Nombre total de documents : {num_results}\")\n",
    "    \n",
    "    # Exemple d'affichage sous forme de tableau\n",
    "    if display_type_widget.value == 'Tableau':\n",
    "        if year == '*':\n",
    "            if doc_type == '*':\n",
    "                years = list(range(2010, 2023))\n",
    "                counts = []\n",
    "                for year in years:\n",
    "                    data = make_hal_request(query, year, doc_type)\n",
    "                    if data is not None:\n",
    "                        counts.append(data['response']['numFound'])\n",
    "                \n",
    "                df = pd.DataFrame({'Année': years, 'Nombre de documents': counts})\n",
    "                display(df)\n",
    "            else:\n",
    "                print('Veuillez sélectionner \"Toutes les années\" pour afficher les résultats sous forme de tableau.')\n",
    "        else:\n",
    "            print('Veuillez sélectionner \"Toutes les années\" pour afficher les résultats sous forme de tableau.')\n",
    "    \n",
    "    # Exemple d'affichage sous forme de graphique\n",
    "    elif display_type_widget.value == 'Graphique':\n",
    "        if year == '*':\n",
    "            if doc_type == '*':\n",
    "                years = list(range(2010, 2023))\n",
    "                counts = []\n",
    "                for year in years:\n",
    "                    data = make_hal_request(query, year, doc_type)\n",
    "                    if data is not None:\n",
    "                        counts.append(data['response']['numFound'])\n",
    "                \n",
    "                plt.figure(figsize=(10, 6))\n",
    "                plt.plot(years, counts, marker='o')\n",
    "                plt.xlabel('Année')\n",
    "                plt.ylabel(\"Nombre de documents\")\n",
    "                plt.title('Nombre de documents publiés par année')\n",
    "                plt.show()\n",
    "            else:\n",
    "                print('Veuillez sélectionner \"Toutes les années\" pour afficher les résultats sous forme de graphique.')\n",
    "        else:\n",
    "            print('Veuillez sélectionner \"Toutes les années\" pour afficher les résultats sous forme de graphique.')\n",
    "\n",
    "# Lier la fonction de rappel au bouton\n",
    "button.on_click(on_button_click)\n",
    "\n",
    "# Afficher les widgets\n",
    "display(query_widget, year_widget, doc_type_widget, display_type_widget, button)\n"
   ]
  },
  {
   "cell_type": "markdown",
   "id": "49ca4570-a1aa-4eb4-a690-b34b8b45958c",
   "metadata": {},
   "source": [
    "Notre Jupyter Notebook est fini : en espérant qu'il vous a plu et qu'il était clair !\n",
    "\n",
    "Si vous avez des questions ou des retours, merci de m'écrire à mon adresse email universitaire : maxime.popineau@etu.univ-tours.fr."
   ]
  }
 ],
 "metadata": {
  "kernelspec": {
   "display_name": "Python 3 (ipykernel)",
   "language": "python",
   "name": "python3"
  },
  "language_info": {
   "codemirror_mode": {
    "name": "ipython",
    "version": 3
   },
   "file_extension": ".py",
   "mimetype": "text/x-python",
   "name": "python",
   "nbconvert_exporter": "python",
   "pygments_lexer": "ipython3",
   "version": "3.10.9"
  },
  "toc-autonumbering": false,
  "toc-showmarkdowntxt": true,
  "toc-showtags": false
 },
 "nbformat": 4,
 "nbformat_minor": 5
}
